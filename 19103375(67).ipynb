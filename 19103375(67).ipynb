{
  "nbformat": 4,
  "nbformat_minor": 0,
  "metadata": {
    "colab": {
      "name": "19103375(67)",
      "provenance": [],
      "collapsed_sections": [],
      "include_colab_link": true
    },
    "kernelspec": {
      "display_name": "Python 3",
      "name": "python3"
    }
  },
  "cells": [
    {
      "cell_type": "markdown",
      "metadata": {
        "id": "view-in-github",
        "colab_type": "text"
      },
      "source": [
        "<a href=\"https://colab.research.google.com/github/yuvrajeyes/colab/blob/main/19103375(67).ipynb\" target=\"_parent\"><img src=\"https://colab.research.google.com/assets/colab-badge.svg\" alt=\"Open In Colab\"/></a>"
      ]
    },
    {
      "cell_type": "markdown",
      "metadata": {
        "id": "QaPIEQjQLyPd"
      },
      "source": [
        "---\n",
        "---\n",
        "### Date: 25/08/2021"
      ]
    },
    {
      "cell_type": "markdown",
      "metadata": {
        "id": "1yFtGhofuknT"
      },
      "source": [
        "---"
      ]
    },
    {
      "cell_type": "markdown",
      "metadata": {
        "id": "vIAX2jUaoP3K"
      },
      "source": [
        "###Object1: Write a program to fetch the dataset from google drive."
      ]
    },
    {
      "cell_type": "code",
      "metadata": {
        "colab": {
          "base_uri": "https://localhost:8080/"
        },
        "id": "uFjfZK5roiiJ",
        "outputId": "e5bd1e7e-d90f-4a94-d849-8a2f1e92841e"
      },
      "source": [
        "from google.colab import drive\n",
        "drive.mount('/content/drive')"
      ],
      "execution_count": null,
      "outputs": [
        {
          "output_type": "stream",
          "name": "stdout",
          "text": [
            "Mounted at /content/drive\n"
          ]
        }
      ]
    },
    {
      "cell_type": "code",
      "metadata": {
        "colab": {
          "base_uri": "https://localhost:8080/",
          "height": 417
        },
        "id": "dZrzOGfLsKK1",
        "outputId": "8b3242ea-2fe7-4807-ef29-718576b895c0"
      },
      "source": [
        "import pandas as pd\n",
        "data1 = pd.read_csv('/content/drive/MyDrive/datasets/spam_ham_dataset.csv')\n",
        "data1"
      ],
      "execution_count": null,
      "outputs": [
        {
          "data": {
            "text/html": [
              "<div>\n",
              "<style scoped>\n",
              "    .dataframe tbody tr th:only-of-type {\n",
              "        vertical-align: middle;\n",
              "    }\n",
              "\n",
              "    .dataframe tbody tr th {\n",
              "        vertical-align: top;\n",
              "    }\n",
              "\n",
              "    .dataframe thead th {\n",
              "        text-align: right;\n",
              "    }\n",
              "</style>\n",
              "<table border=\"1\" class=\"dataframe\">\n",
              "  <thead>\n",
              "    <tr style=\"text-align: right;\">\n",
              "      <th></th>\n",
              "      <th>Unnamed: 0</th>\n",
              "      <th>label</th>\n",
              "      <th>text</th>\n",
              "      <th>label_num</th>\n",
              "    </tr>\n",
              "  </thead>\n",
              "  <tbody>\n",
              "    <tr>\n",
              "      <th>0</th>\n",
              "      <td>605</td>\n",
              "      <td>ham</td>\n",
              "      <td>Subject: enron methanol ; meter # : 988291\\r\\n...</td>\n",
              "      <td>0</td>\n",
              "    </tr>\n",
              "    <tr>\n",
              "      <th>1</th>\n",
              "      <td>2349</td>\n",
              "      <td>ham</td>\n",
              "      <td>Subject: hpl nom for january 9 , 2001\\r\\n( see...</td>\n",
              "      <td>0</td>\n",
              "    </tr>\n",
              "    <tr>\n",
              "      <th>2</th>\n",
              "      <td>3624</td>\n",
              "      <td>ham</td>\n",
              "      <td>Subject: neon retreat\\r\\nho ho ho , we ' re ar...</td>\n",
              "      <td>0</td>\n",
              "    </tr>\n",
              "    <tr>\n",
              "      <th>3</th>\n",
              "      <td>4685</td>\n",
              "      <td>spam</td>\n",
              "      <td>Subject: photoshop , windows , office . cheap ...</td>\n",
              "      <td>1</td>\n",
              "    </tr>\n",
              "    <tr>\n",
              "      <th>4</th>\n",
              "      <td>2030</td>\n",
              "      <td>ham</td>\n",
              "      <td>Subject: re : indian springs\\r\\nthis deal is t...</td>\n",
              "      <td>0</td>\n",
              "    </tr>\n",
              "    <tr>\n",
              "      <th>...</th>\n",
              "      <td>...</td>\n",
              "      <td>...</td>\n",
              "      <td>...</td>\n",
              "      <td>...</td>\n",
              "    </tr>\n",
              "    <tr>\n",
              "      <th>5166</th>\n",
              "      <td>1518</td>\n",
              "      <td>ham</td>\n",
              "      <td>Subject: put the 10 on the ft\\r\\nthe transport...</td>\n",
              "      <td>0</td>\n",
              "    </tr>\n",
              "    <tr>\n",
              "      <th>5167</th>\n",
              "      <td>404</td>\n",
              "      <td>ham</td>\n",
              "      <td>Subject: 3 / 4 / 2000 and following noms\\r\\nhp...</td>\n",
              "      <td>0</td>\n",
              "    </tr>\n",
              "    <tr>\n",
              "      <th>5168</th>\n",
              "      <td>2933</td>\n",
              "      <td>ham</td>\n",
              "      <td>Subject: calpine daily gas nomination\\r\\n&gt;\\r\\n...</td>\n",
              "      <td>0</td>\n",
              "    </tr>\n",
              "    <tr>\n",
              "      <th>5169</th>\n",
              "      <td>1409</td>\n",
              "      <td>ham</td>\n",
              "      <td>Subject: industrial worksheets for august 2000...</td>\n",
              "      <td>0</td>\n",
              "    </tr>\n",
              "    <tr>\n",
              "      <th>5170</th>\n",
              "      <td>4807</td>\n",
              "      <td>spam</td>\n",
              "      <td>Subject: important online banking alert\\r\\ndea...</td>\n",
              "      <td>1</td>\n",
              "    </tr>\n",
              "  </tbody>\n",
              "</table>\n",
              "<p>5171 rows × 4 columns</p>\n",
              "</div>"
            ],
            "text/plain": [
              "      Unnamed: 0  ... label_num\n",
              "0            605  ...         0\n",
              "1           2349  ...         0\n",
              "2           3624  ...         0\n",
              "3           4685  ...         1\n",
              "4           2030  ...         0\n",
              "...          ...  ...       ...\n",
              "5166        1518  ...         0\n",
              "5167         404  ...         0\n",
              "5168        2933  ...         0\n",
              "5169        1409  ...         0\n",
              "5170        4807  ...         1\n",
              "\n",
              "[5171 rows x 4 columns]"
            ]
          },
          "execution_count": 7,
          "metadata": {},
          "output_type": "execute_result"
        }
      ]
    },
    {
      "cell_type": "code",
      "metadata": {
        "colab": {
          "base_uri": "https://localhost:8080/",
          "height": 203
        },
        "id": "9kBUDJkksKbX",
        "outputId": "3fccb20a-6f15-41b8-b91b-02933af371cb"
      },
      "source": [
        "# Show the top 5 data\n",
        "data1.head()"
      ],
      "execution_count": null,
      "outputs": [
        {
          "data": {
            "text/html": [
              "<div>\n",
              "<style scoped>\n",
              "    .dataframe tbody tr th:only-of-type {\n",
              "        vertical-align: middle;\n",
              "    }\n",
              "\n",
              "    .dataframe tbody tr th {\n",
              "        vertical-align: top;\n",
              "    }\n",
              "\n",
              "    .dataframe thead th {\n",
              "        text-align: right;\n",
              "    }\n",
              "</style>\n",
              "<table border=\"1\" class=\"dataframe\">\n",
              "  <thead>\n",
              "    <tr style=\"text-align: right;\">\n",
              "      <th></th>\n",
              "      <th>Unnamed: 0</th>\n",
              "      <th>label</th>\n",
              "      <th>text</th>\n",
              "      <th>label_num</th>\n",
              "    </tr>\n",
              "  </thead>\n",
              "  <tbody>\n",
              "    <tr>\n",
              "      <th>0</th>\n",
              "      <td>605</td>\n",
              "      <td>ham</td>\n",
              "      <td>Subject: enron methanol ; meter # : 988291\\r\\n...</td>\n",
              "      <td>0</td>\n",
              "    </tr>\n",
              "    <tr>\n",
              "      <th>1</th>\n",
              "      <td>2349</td>\n",
              "      <td>ham</td>\n",
              "      <td>Subject: hpl nom for january 9 , 2001\\r\\n( see...</td>\n",
              "      <td>0</td>\n",
              "    </tr>\n",
              "    <tr>\n",
              "      <th>2</th>\n",
              "      <td>3624</td>\n",
              "      <td>ham</td>\n",
              "      <td>Subject: neon retreat\\r\\nho ho ho , we ' re ar...</td>\n",
              "      <td>0</td>\n",
              "    </tr>\n",
              "    <tr>\n",
              "      <th>3</th>\n",
              "      <td>4685</td>\n",
              "      <td>spam</td>\n",
              "      <td>Subject: photoshop , windows , office . cheap ...</td>\n",
              "      <td>1</td>\n",
              "    </tr>\n",
              "    <tr>\n",
              "      <th>4</th>\n",
              "      <td>2030</td>\n",
              "      <td>ham</td>\n",
              "      <td>Subject: re : indian springs\\r\\nthis deal is t...</td>\n",
              "      <td>0</td>\n",
              "    </tr>\n",
              "  </tbody>\n",
              "</table>\n",
              "</div>"
            ],
            "text/plain": [
              "   Unnamed: 0  ... label_num\n",
              "0         605  ...         0\n",
              "1        2349  ...         0\n",
              "2        3624  ...         0\n",
              "3        4685  ...         1\n",
              "4        2030  ...         0\n",
              "\n",
              "[5 rows x 4 columns]"
            ]
          },
          "execution_count": 8,
          "metadata": {},
          "output_type": "execute_result"
        }
      ]
    },
    {
      "cell_type": "code",
      "metadata": {
        "colab": {
          "base_uri": "https://localhost:8080/",
          "height": 203
        },
        "id": "cNsltj3Ns2BZ",
        "outputId": "4e26ec61-3cf1-4633-dfaa-d40c45c9ac02"
      },
      "source": [
        "# show the last 5 data\n",
        "data1.tail()"
      ],
      "execution_count": null,
      "outputs": [
        {
          "data": {
            "text/html": [
              "<div>\n",
              "<style scoped>\n",
              "    .dataframe tbody tr th:only-of-type {\n",
              "        vertical-align: middle;\n",
              "    }\n",
              "\n",
              "    .dataframe tbody tr th {\n",
              "        vertical-align: top;\n",
              "    }\n",
              "\n",
              "    .dataframe thead th {\n",
              "        text-align: right;\n",
              "    }\n",
              "</style>\n",
              "<table border=\"1\" class=\"dataframe\">\n",
              "  <thead>\n",
              "    <tr style=\"text-align: right;\">\n",
              "      <th></th>\n",
              "      <th>Unnamed: 0</th>\n",
              "      <th>label</th>\n",
              "      <th>text</th>\n",
              "      <th>label_num</th>\n",
              "    </tr>\n",
              "  </thead>\n",
              "  <tbody>\n",
              "    <tr>\n",
              "      <th>5166</th>\n",
              "      <td>1518</td>\n",
              "      <td>ham</td>\n",
              "      <td>Subject: put the 10 on the ft\\r\\nthe transport...</td>\n",
              "      <td>0</td>\n",
              "    </tr>\n",
              "    <tr>\n",
              "      <th>5167</th>\n",
              "      <td>404</td>\n",
              "      <td>ham</td>\n",
              "      <td>Subject: 3 / 4 / 2000 and following noms\\r\\nhp...</td>\n",
              "      <td>0</td>\n",
              "    </tr>\n",
              "    <tr>\n",
              "      <th>5168</th>\n",
              "      <td>2933</td>\n",
              "      <td>ham</td>\n",
              "      <td>Subject: calpine daily gas nomination\\r\\n&gt;\\r\\n...</td>\n",
              "      <td>0</td>\n",
              "    </tr>\n",
              "    <tr>\n",
              "      <th>5169</th>\n",
              "      <td>1409</td>\n",
              "      <td>ham</td>\n",
              "      <td>Subject: industrial worksheets for august 2000...</td>\n",
              "      <td>0</td>\n",
              "    </tr>\n",
              "    <tr>\n",
              "      <th>5170</th>\n",
              "      <td>4807</td>\n",
              "      <td>spam</td>\n",
              "      <td>Subject: important online banking alert\\r\\ndea...</td>\n",
              "      <td>1</td>\n",
              "    </tr>\n",
              "  </tbody>\n",
              "</table>\n",
              "</div>"
            ],
            "text/plain": [
              "      Unnamed: 0  ... label_num\n",
              "5166        1518  ...         0\n",
              "5167         404  ...         0\n",
              "5168        2933  ...         0\n",
              "5169        1409  ...         0\n",
              "5170        4807  ...         1\n",
              "\n",
              "[5 rows x 4 columns]"
            ]
          },
          "execution_count": 9,
          "metadata": {},
          "output_type": "execute_result"
        }
      ]
    },
    {
      "cell_type": "markdown",
      "metadata": {
        "id": "vmuTmRHk7700"
      },
      "source": [
        "---\n",
        "---\n",
        "### Date: 01/09/2021"
      ]
    },
    {
      "cell_type": "code",
      "metadata": {
        "colab": {
          "base_uri": "https://localhost:8080/"
        },
        "id": "qXNtnimFs2Ld",
        "outputId": "1b1c9213-3c79-4641-bd39-852685215231"
      },
      "source": [
        "len(data1)"
      ],
      "execution_count": null,
      "outputs": [
        {
          "data": {
            "text/plain": [
              "5171"
            ]
          },
          "execution_count": 10,
          "metadata": {},
          "output_type": "execute_result"
        }
      ]
    },
    {
      "cell_type": "code",
      "metadata": {
        "colab": {
          "base_uri": "https://localhost:8080/"
        },
        "id": "jWoP1vOt0Q4Q",
        "outputId": "df6ff17a-e473-4c39-bc23-c73391f20b11"
      },
      "source": [
        "data1.index"
      ],
      "execution_count": null,
      "outputs": [
        {
          "data": {
            "text/plain": [
              "RangeIndex(start=0, stop=5171, step=1)"
            ]
          },
          "execution_count": 11,
          "metadata": {},
          "output_type": "execute_result"
        }
      ]
    },
    {
      "cell_type": "code",
      "metadata": {
        "colab": {
          "base_uri": "https://localhost:8080/",
          "height": 172
        },
        "id": "blRyuyc68tyN",
        "outputId": "af3ada89-eec2-4be9-cfa3-0426cd32bd93"
      },
      "source": [
        "data1[0:4]"
      ],
      "execution_count": null,
      "outputs": [
        {
          "data": {
            "text/html": [
              "<div>\n",
              "<style scoped>\n",
              "    .dataframe tbody tr th:only-of-type {\n",
              "        vertical-align: middle;\n",
              "    }\n",
              "\n",
              "    .dataframe tbody tr th {\n",
              "        vertical-align: top;\n",
              "    }\n",
              "\n",
              "    .dataframe thead th {\n",
              "        text-align: right;\n",
              "    }\n",
              "</style>\n",
              "<table border=\"1\" class=\"dataframe\">\n",
              "  <thead>\n",
              "    <tr style=\"text-align: right;\">\n",
              "      <th></th>\n",
              "      <th>Unnamed: 0</th>\n",
              "      <th>label</th>\n",
              "      <th>text</th>\n",
              "      <th>label_num</th>\n",
              "    </tr>\n",
              "  </thead>\n",
              "  <tbody>\n",
              "    <tr>\n",
              "      <th>0</th>\n",
              "      <td>605</td>\n",
              "      <td>ham</td>\n",
              "      <td>Subject: enron methanol ; meter # : 988291\\r\\n...</td>\n",
              "      <td>0</td>\n",
              "    </tr>\n",
              "    <tr>\n",
              "      <th>1</th>\n",
              "      <td>2349</td>\n",
              "      <td>ham</td>\n",
              "      <td>Subject: hpl nom for january 9 , 2001\\r\\n( see...</td>\n",
              "      <td>0</td>\n",
              "    </tr>\n",
              "    <tr>\n",
              "      <th>2</th>\n",
              "      <td>3624</td>\n",
              "      <td>ham</td>\n",
              "      <td>Subject: neon retreat\\r\\nho ho ho , we ' re ar...</td>\n",
              "      <td>0</td>\n",
              "    </tr>\n",
              "    <tr>\n",
              "      <th>3</th>\n",
              "      <td>4685</td>\n",
              "      <td>spam</td>\n",
              "      <td>Subject: photoshop , windows , office . cheap ...</td>\n",
              "      <td>1</td>\n",
              "    </tr>\n",
              "  </tbody>\n",
              "</table>\n",
              "</div>"
            ],
            "text/plain": [
              "   Unnamed: 0  ... label_num\n",
              "0         605  ...         0\n",
              "1        2349  ...         0\n",
              "2        3624  ...         0\n",
              "3        4685  ...         1\n",
              "\n",
              "[4 rows x 4 columns]"
            ]
          },
          "execution_count": 12,
          "metadata": {},
          "output_type": "execute_result"
        }
      ]
    },
    {
      "cell_type": "code",
      "metadata": {
        "colab": {
          "base_uri": "https://localhost:8080/"
        },
        "id": "9kZRUbqE8tZF",
        "outputId": "ab709f74-21c8-4b5f-f5b0-c17e3e23ab23"
      },
      "source": [
        "type(data1)"
      ],
      "execution_count": null,
      "outputs": [
        {
          "data": {
            "text/plain": [
              "pandas.core.frame.DataFrame"
            ]
          },
          "execution_count": 13,
          "metadata": {},
          "output_type": "execute_result"
        }
      ]
    },
    {
      "cell_type": "markdown",
      "metadata": {
        "id": "kSyQZcUez23P"
      },
      "source": [
        "### **Class assignment 1:**\n",
        "\n",
        "### Object2:\n",
        "---\n",
        "\n",
        "\n",
        "##Q1. What is the pandas library?\n",
        "\n",
        "Ans: pandas is a popular Python-based data analysis toolkit which can be imported using `import pandas as pd`. It presents a diverse range of utilities, ranging from parsing multiple file formats to converting an entire data table into a NumPy matrix array. This makes pandas a trusted ally in data science and machine learning. It \n",
        "\n",
        "Similar to NumPy, pandas deals primarily with data in 1-D and 2-D arrays; however, pandas handles the two differently.\n",
        "\n",
        "\n",
        "---\n",
        "\n",
        "\n",
        "##Q2. Explian all the data types in python?\n",
        "\n",
        "Ans:  Every value in Python has a datatype. Since everything is an object in Python programming, data types are actually classes and variables are instance (object) of these classes.\n",
        "\n",
        "These are the basic built-in datatypes in pythn.\n",
        "> Text Type:\tstr\n",
        "\n",
        ">Numeric Types:\tint, float, complex\n",
        "\n",
        ">Sequence Types:\tlist, tuple, range\n",
        "\n",
        ">Mapping Type:\tdict\n",
        "\n",
        ">Set Types:\tset, frozenset\n",
        "\n",
        ">Boolean Type:\tbool\n",
        "\n",
        ">Binary Types:\tbytes, bytearray, memoryview\n",
        "\n",
        "Other datatypes in python are:\n",
        "> numpy.array, pandas.Series, pandas.DataFrame. Tensors, etc.\n",
        "\n",
        "---\n",
        "\n",
        "##Q3. What is the TPU? explian.\n",
        "\n",
        "Ans: Tensor Processing Units (TPUs) are Google's custom-developed application-specific integrated circuits (ASICs) used to accelerate machine learning workloads. TPUs are designed from the ground up with the benefit of Google's deep experience and leadership in machine learning. Cloud TPUs are available in a base configuration with 8 cores and also in larger configurations called “TPU pods” of up to 2048 cores. The extra hardware can be used to accelerate training by increasing the training batch size.\n",
        "###Advantages of TPUs:\n",
        "Cloud TPU resources accelerate the performance of linear algebra computation, which is used heavily in machine learning applications. TPUs minimize the time-to-accuracy when you train large, complex neural network models. Models that previously took weeks to train on other hardware platforms can converge in hours on TPUs.\n",
        "\n",
        "---\n"
      ]
    },
    {
      "cell_type": "markdown",
      "metadata": {
        "id": "Uo3j1fcj6pTm"
      },
      "source": [
        "###Q4. Write a program to create series with scaler values by using the pandas library?"
      ]
    },
    {
      "cell_type": "code",
      "metadata": {
        "colab": {
          "base_uri": "https://localhost:8080/"
        },
        "id": "t0LUZgfh0U1V",
        "outputId": "1b88e2e9-db96-490a-bb1e-0de053070147"
      },
      "source": [
        "import pandas as pd\n",
        "import numpy as np\n",
        "\n",
        "s = pd.Series(dtype='float64')\n",
        "print(\"Empty pandas series:\") \n",
        "print(s)\n",
        "\n",
        "ser = pd.Series([0, 10, 20, 30, 40, 50, 60, 70, 80, 90])\n",
        "print('\\npandas Series:')\n",
        "print(s)\n",
        "\n",
        "# A series from a numpy array\n",
        "arr = np.array([0, 10, 20, 30, 40, 50])\n",
        "s = pd.Series(arr, dtype = np.double)\n",
        "print('\\nSeries using numpy array:')\n",
        "print(s)\n",
        "\n",
        "s = pd.Series([[15, 4], [89, 23.5], [21, 22]])\n",
        "print('\\npandas series object:')\n",
        "print(s)"
      ],
      "execution_count": null,
      "outputs": [
        {
          "name": "stdout",
          "output_type": "stream",
          "text": [
            "Empty pandas series:\n",
            "Series([], dtype: float64)\n",
            "\n",
            "pandas Series:\n",
            "Series([], dtype: float64)\n",
            "\n",
            "Series using numpy array:\n",
            "0     0.0\n",
            "1    10.0\n",
            "2    20.0\n",
            "3    30.0\n",
            "4    40.0\n",
            "5    50.0\n",
            "dtype: float64\n",
            "\n",
            "pandas series object:\n",
            "0       [15, 4]\n",
            "1    [89, 23.5]\n",
            "2      [21, 22]\n",
            "dtype: object\n"
          ]
        }
      ]
    },
    {
      "cell_type": "markdown",
      "metadata": {
        "id": "iZwojOs5oxdH"
      },
      "source": [
        "###Object3: Analysing Covid-19 Dataset"
      ]
    },
    {
      "cell_type": "code",
      "metadata": {
        "colab": {
          "base_uri": "https://localhost:8080/",
          "height": 417
        },
        "id": "sXI7Dh6pAwL7",
        "outputId": "2be4b6df-b008-4845-c91d-d4fbe399052f"
      },
      "source": [
        "import pandas as pd\n",
        "\n",
        "data2 = pd.read_csv('/content/drive/MyDrive/datasets/covid_19_clean_complete.csv - covid_19_clean_complete.csv')\n",
        "data2"
      ],
      "execution_count": null,
      "outputs": [
        {
          "data": {
            "text/html": [
              "<div>\n",
              "<style scoped>\n",
              "    .dataframe tbody tr th:only-of-type {\n",
              "        vertical-align: middle;\n",
              "    }\n",
              "\n",
              "    .dataframe tbody tr th {\n",
              "        vertical-align: top;\n",
              "    }\n",
              "\n",
              "    .dataframe thead th {\n",
              "        text-align: right;\n",
              "    }\n",
              "</style>\n",
              "<table border=\"1\" class=\"dataframe\">\n",
              "  <thead>\n",
              "    <tr style=\"text-align: right;\">\n",
              "      <th></th>\n",
              "      <th>Province/State</th>\n",
              "      <th>Country/Region</th>\n",
              "      <th>Lat</th>\n",
              "      <th>Long</th>\n",
              "      <th>Date</th>\n",
              "      <th>Confirmed</th>\n",
              "      <th>Deaths</th>\n",
              "      <th>Recovered</th>\n",
              "    </tr>\n",
              "  </thead>\n",
              "  <tbody>\n",
              "    <tr>\n",
              "      <th>0</th>\n",
              "      <td>NaN</td>\n",
              "      <td>Afghanistan</td>\n",
              "      <td>33.000000</td>\n",
              "      <td>65.000000</td>\n",
              "      <td>1/22/20</td>\n",
              "      <td>0.0</td>\n",
              "      <td>0</td>\n",
              "      <td>0</td>\n",
              "    </tr>\n",
              "    <tr>\n",
              "      <th>1</th>\n",
              "      <td>NaN</td>\n",
              "      <td>Albania</td>\n",
              "      <td>41.153300</td>\n",
              "      <td>20.168300</td>\n",
              "      <td>1/22/20</td>\n",
              "      <td>0.0</td>\n",
              "      <td>0</td>\n",
              "      <td>0</td>\n",
              "    </tr>\n",
              "    <tr>\n",
              "      <th>2</th>\n",
              "      <td>NaN</td>\n",
              "      <td>Algeria</td>\n",
              "      <td>28.033900</td>\n",
              "      <td>1.659600</td>\n",
              "      <td>1/22/20</td>\n",
              "      <td>0.0</td>\n",
              "      <td>0</td>\n",
              "      <td>0</td>\n",
              "    </tr>\n",
              "    <tr>\n",
              "      <th>3</th>\n",
              "      <td>NaN</td>\n",
              "      <td>Andorra</td>\n",
              "      <td>42.506300</td>\n",
              "      <td>1.521800</td>\n",
              "      <td>1/22/20</td>\n",
              "      <td>0.0</td>\n",
              "      <td>0</td>\n",
              "      <td>0</td>\n",
              "    </tr>\n",
              "    <tr>\n",
              "      <th>4</th>\n",
              "      <td>NaN</td>\n",
              "      <td>Angola</td>\n",
              "      <td>-11.202700</td>\n",
              "      <td>17.873900</td>\n",
              "      <td>1/22/20</td>\n",
              "      <td>0.0</td>\n",
              "      <td>0</td>\n",
              "      <td>0</td>\n",
              "    </tr>\n",
              "    <tr>\n",
              "      <th>...</th>\n",
              "      <td>...</td>\n",
              "      <td>...</td>\n",
              "      <td>...</td>\n",
              "      <td>...</td>\n",
              "      <td>...</td>\n",
              "      <td>...</td>\n",
              "      <td>...</td>\n",
              "      <td>...</td>\n",
              "    </tr>\n",
              "    <tr>\n",
              "      <th>24361</th>\n",
              "      <td>Saint Pierre and Miquelon</td>\n",
              "      <td>France</td>\n",
              "      <td>46.885200</td>\n",
              "      <td>-56.315900</td>\n",
              "      <td>4/23/20</td>\n",
              "      <td>1.0</td>\n",
              "      <td>0</td>\n",
              "      <td>0</td>\n",
              "    </tr>\n",
              "    <tr>\n",
              "      <th>24362</th>\n",
              "      <td>NaN</td>\n",
              "      <td>South Sudan</td>\n",
              "      <td>6.877000</td>\n",
              "      <td>31.307000</td>\n",
              "      <td>4/23/20</td>\n",
              "      <td>5.0</td>\n",
              "      <td>0</td>\n",
              "      <td>0</td>\n",
              "    </tr>\n",
              "    <tr>\n",
              "      <th>24363</th>\n",
              "      <td>NaN</td>\n",
              "      <td>Western Sahara</td>\n",
              "      <td>24.215500</td>\n",
              "      <td>-12.885800</td>\n",
              "      <td>4/23/20</td>\n",
              "      <td>6.0</td>\n",
              "      <td>0</td>\n",
              "      <td>5</td>\n",
              "    </tr>\n",
              "    <tr>\n",
              "      <th>24364</th>\n",
              "      <td>NaN</td>\n",
              "      <td>Sao Tome and Principe</td>\n",
              "      <td>0.186360</td>\n",
              "      <td>6.613081</td>\n",
              "      <td>4/23/20</td>\n",
              "      <td>4.0</td>\n",
              "      <td>0</td>\n",
              "      <td>0</td>\n",
              "    </tr>\n",
              "    <tr>\n",
              "      <th>24365</th>\n",
              "      <td>NaN</td>\n",
              "      <td>Yemen</td>\n",
              "      <td>15.552727</td>\n",
              "      <td>48.516388</td>\n",
              "      <td>4/23/20</td>\n",
              "      <td>1.0</td>\n",
              "      <td>0</td>\n",
              "      <td>0</td>\n",
              "    </tr>\n",
              "  </tbody>\n",
              "</table>\n",
              "<p>24366 rows × 8 columns</p>\n",
              "</div>"
            ],
            "text/plain": [
              "                  Province/State         Country/Region  ...  Deaths  Recovered\n",
              "0                            NaN            Afghanistan  ...       0          0\n",
              "1                            NaN                Albania  ...       0          0\n",
              "2                            NaN                Algeria  ...       0          0\n",
              "3                            NaN                Andorra  ...       0          0\n",
              "4                            NaN                 Angola  ...       0          0\n",
              "...                          ...                    ...  ...     ...        ...\n",
              "24361  Saint Pierre and Miquelon                 France  ...       0          0\n",
              "24362                        NaN            South Sudan  ...       0          0\n",
              "24363                        NaN         Western Sahara  ...       0          5\n",
              "24364                        NaN  Sao Tome and Principe  ...       0          0\n",
              "24365                        NaN                  Yemen  ...       0          0\n",
              "\n",
              "[24366 rows x 8 columns]"
            ]
          },
          "execution_count": 14,
          "metadata": {},
          "output_type": "execute_result"
        }
      ]
    },
    {
      "cell_type": "code",
      "metadata": {
        "colab": {
          "base_uri": "https://localhost:8080/",
          "height": 203
        },
        "id": "G7s7aCQODFsI",
        "outputId": "5749a2e1-e1c5-4b23-b696-e61aa6f09f26"
      },
      "source": [
        "data2.head()"
      ],
      "execution_count": null,
      "outputs": [
        {
          "data": {
            "text/html": [
              "<div>\n",
              "<style scoped>\n",
              "    .dataframe tbody tr th:only-of-type {\n",
              "        vertical-align: middle;\n",
              "    }\n",
              "\n",
              "    .dataframe tbody tr th {\n",
              "        vertical-align: top;\n",
              "    }\n",
              "\n",
              "    .dataframe thead th {\n",
              "        text-align: right;\n",
              "    }\n",
              "</style>\n",
              "<table border=\"1\" class=\"dataframe\">\n",
              "  <thead>\n",
              "    <tr style=\"text-align: right;\">\n",
              "      <th></th>\n",
              "      <th>Province/State</th>\n",
              "      <th>Country/Region</th>\n",
              "      <th>Lat</th>\n",
              "      <th>Long</th>\n",
              "      <th>Date</th>\n",
              "      <th>Confirmed</th>\n",
              "      <th>Deaths</th>\n",
              "      <th>Recovered</th>\n",
              "    </tr>\n",
              "  </thead>\n",
              "  <tbody>\n",
              "    <tr>\n",
              "      <th>0</th>\n",
              "      <td>NaN</td>\n",
              "      <td>Afghanistan</td>\n",
              "      <td>33.0000</td>\n",
              "      <td>65.0000</td>\n",
              "      <td>1/22/20</td>\n",
              "      <td>0.0</td>\n",
              "      <td>0</td>\n",
              "      <td>0</td>\n",
              "    </tr>\n",
              "    <tr>\n",
              "      <th>1</th>\n",
              "      <td>NaN</td>\n",
              "      <td>Albania</td>\n",
              "      <td>41.1533</td>\n",
              "      <td>20.1683</td>\n",
              "      <td>1/22/20</td>\n",
              "      <td>0.0</td>\n",
              "      <td>0</td>\n",
              "      <td>0</td>\n",
              "    </tr>\n",
              "    <tr>\n",
              "      <th>2</th>\n",
              "      <td>NaN</td>\n",
              "      <td>Algeria</td>\n",
              "      <td>28.0339</td>\n",
              "      <td>1.6596</td>\n",
              "      <td>1/22/20</td>\n",
              "      <td>0.0</td>\n",
              "      <td>0</td>\n",
              "      <td>0</td>\n",
              "    </tr>\n",
              "    <tr>\n",
              "      <th>3</th>\n",
              "      <td>NaN</td>\n",
              "      <td>Andorra</td>\n",
              "      <td>42.5063</td>\n",
              "      <td>1.5218</td>\n",
              "      <td>1/22/20</td>\n",
              "      <td>0.0</td>\n",
              "      <td>0</td>\n",
              "      <td>0</td>\n",
              "    </tr>\n",
              "    <tr>\n",
              "      <th>4</th>\n",
              "      <td>NaN</td>\n",
              "      <td>Angola</td>\n",
              "      <td>-11.2027</td>\n",
              "      <td>17.8739</td>\n",
              "      <td>1/22/20</td>\n",
              "      <td>0.0</td>\n",
              "      <td>0</td>\n",
              "      <td>0</td>\n",
              "    </tr>\n",
              "  </tbody>\n",
              "</table>\n",
              "</div>"
            ],
            "text/plain": [
              "  Province/State Country/Region      Lat  ...  Confirmed Deaths  Recovered\n",
              "0            NaN    Afghanistan  33.0000  ...        0.0      0          0\n",
              "1            NaN        Albania  41.1533  ...        0.0      0          0\n",
              "2            NaN        Algeria  28.0339  ...        0.0      0          0\n",
              "3            NaN        Andorra  42.5063  ...        0.0      0          0\n",
              "4            NaN         Angola -11.2027  ...        0.0      0          0\n",
              "\n",
              "[5 rows x 8 columns]"
            ]
          },
          "execution_count": 15,
          "metadata": {},
          "output_type": "execute_result"
        }
      ]
    },
    {
      "cell_type": "code",
      "metadata": {
        "colab": {
          "base_uri": "https://localhost:8080/",
          "height": 203
        },
        "id": "hI3DFqmFDFpJ",
        "outputId": "8109c15d-7817-4bd7-dc5e-e831c3fdba0c"
      },
      "source": [
        "data2.tail()"
      ],
      "execution_count": null,
      "outputs": [
        {
          "data": {
            "text/html": [
              "<div>\n",
              "<style scoped>\n",
              "    .dataframe tbody tr th:only-of-type {\n",
              "        vertical-align: middle;\n",
              "    }\n",
              "\n",
              "    .dataframe tbody tr th {\n",
              "        vertical-align: top;\n",
              "    }\n",
              "\n",
              "    .dataframe thead th {\n",
              "        text-align: right;\n",
              "    }\n",
              "</style>\n",
              "<table border=\"1\" class=\"dataframe\">\n",
              "  <thead>\n",
              "    <tr style=\"text-align: right;\">\n",
              "      <th></th>\n",
              "      <th>Province/State</th>\n",
              "      <th>Country/Region</th>\n",
              "      <th>Lat</th>\n",
              "      <th>Long</th>\n",
              "      <th>Date</th>\n",
              "      <th>Confirmed</th>\n",
              "      <th>Deaths</th>\n",
              "      <th>Recovered</th>\n",
              "    </tr>\n",
              "  </thead>\n",
              "  <tbody>\n",
              "    <tr>\n",
              "      <th>24361</th>\n",
              "      <td>Saint Pierre and Miquelon</td>\n",
              "      <td>France</td>\n",
              "      <td>46.885200</td>\n",
              "      <td>-56.315900</td>\n",
              "      <td>4/23/20</td>\n",
              "      <td>1.0</td>\n",
              "      <td>0</td>\n",
              "      <td>0</td>\n",
              "    </tr>\n",
              "    <tr>\n",
              "      <th>24362</th>\n",
              "      <td>NaN</td>\n",
              "      <td>South Sudan</td>\n",
              "      <td>6.877000</td>\n",
              "      <td>31.307000</td>\n",
              "      <td>4/23/20</td>\n",
              "      <td>5.0</td>\n",
              "      <td>0</td>\n",
              "      <td>0</td>\n",
              "    </tr>\n",
              "    <tr>\n",
              "      <th>24363</th>\n",
              "      <td>NaN</td>\n",
              "      <td>Western Sahara</td>\n",
              "      <td>24.215500</td>\n",
              "      <td>-12.885800</td>\n",
              "      <td>4/23/20</td>\n",
              "      <td>6.0</td>\n",
              "      <td>0</td>\n",
              "      <td>5</td>\n",
              "    </tr>\n",
              "    <tr>\n",
              "      <th>24364</th>\n",
              "      <td>NaN</td>\n",
              "      <td>Sao Tome and Principe</td>\n",
              "      <td>0.186360</td>\n",
              "      <td>6.613081</td>\n",
              "      <td>4/23/20</td>\n",
              "      <td>4.0</td>\n",
              "      <td>0</td>\n",
              "      <td>0</td>\n",
              "    </tr>\n",
              "    <tr>\n",
              "      <th>24365</th>\n",
              "      <td>NaN</td>\n",
              "      <td>Yemen</td>\n",
              "      <td>15.552727</td>\n",
              "      <td>48.516388</td>\n",
              "      <td>4/23/20</td>\n",
              "      <td>1.0</td>\n",
              "      <td>0</td>\n",
              "      <td>0</td>\n",
              "    </tr>\n",
              "  </tbody>\n",
              "</table>\n",
              "</div>"
            ],
            "text/plain": [
              "                  Province/State         Country/Region  ...  Deaths  Recovered\n",
              "24361  Saint Pierre and Miquelon                 France  ...       0          0\n",
              "24362                        NaN            South Sudan  ...       0          0\n",
              "24363                        NaN         Western Sahara  ...       0          5\n",
              "24364                        NaN  Sao Tome and Principe  ...       0          0\n",
              "24365                        NaN                  Yemen  ...       0          0\n",
              "\n",
              "[5 rows x 8 columns]"
            ]
          },
          "execution_count": 16,
          "metadata": {},
          "output_type": "execute_result"
        }
      ]
    },
    {
      "cell_type": "code",
      "metadata": {
        "colab": {
          "base_uri": "https://localhost:8080/"
        },
        "id": "HPDHghMvDFlr",
        "outputId": "f9c0f3a2-775c-41cc-ecb9-a51814ad2772"
      },
      "source": [
        "len(data2)"
      ],
      "execution_count": null,
      "outputs": [
        {
          "data": {
            "text/plain": [
              "24366"
            ]
          },
          "execution_count": 17,
          "metadata": {},
          "output_type": "execute_result"
        }
      ]
    },
    {
      "cell_type": "code",
      "metadata": {
        "colab": {
          "base_uri": "https://localhost:8080/"
        },
        "id": "-lmFh4QvDSGw",
        "outputId": "f9a82bee-941c-4a7d-8b23-aba678092654"
      },
      "source": [
        "type(data2)"
      ],
      "execution_count": null,
      "outputs": [
        {
          "data": {
            "text/plain": [
              "pandas.core.frame.DataFrame"
            ]
          },
          "execution_count": 18,
          "metadata": {},
          "output_type": "execute_result"
        }
      ]
    },
    {
      "cell_type": "code",
      "metadata": {
        "colab": {
          "base_uri": "https://localhost:8080/",
          "height": 234
        },
        "id": "1S-l6Nx8DSDW",
        "outputId": "814514d2-139c-4038-87d2-672311c73f7c"
      },
      "source": [
        "data2[1:7]"
      ],
      "execution_count": null,
      "outputs": [
        {
          "data": {
            "text/html": [
              "<div>\n",
              "<style scoped>\n",
              "    .dataframe tbody tr th:only-of-type {\n",
              "        vertical-align: middle;\n",
              "    }\n",
              "\n",
              "    .dataframe tbody tr th {\n",
              "        vertical-align: top;\n",
              "    }\n",
              "\n",
              "    .dataframe thead th {\n",
              "        text-align: right;\n",
              "    }\n",
              "</style>\n",
              "<table border=\"1\" class=\"dataframe\">\n",
              "  <thead>\n",
              "    <tr style=\"text-align: right;\">\n",
              "      <th></th>\n",
              "      <th>Province/State</th>\n",
              "      <th>Country/Region</th>\n",
              "      <th>Lat</th>\n",
              "      <th>Long</th>\n",
              "      <th>Date</th>\n",
              "      <th>Confirmed</th>\n",
              "      <th>Deaths</th>\n",
              "      <th>Recovered</th>\n",
              "    </tr>\n",
              "  </thead>\n",
              "  <tbody>\n",
              "    <tr>\n",
              "      <th>1</th>\n",
              "      <td>NaN</td>\n",
              "      <td>Albania</td>\n",
              "      <td>41.1533</td>\n",
              "      <td>20.1683</td>\n",
              "      <td>1/22/20</td>\n",
              "      <td>0.0</td>\n",
              "      <td>0</td>\n",
              "      <td>0</td>\n",
              "    </tr>\n",
              "    <tr>\n",
              "      <th>2</th>\n",
              "      <td>NaN</td>\n",
              "      <td>Algeria</td>\n",
              "      <td>28.0339</td>\n",
              "      <td>1.6596</td>\n",
              "      <td>1/22/20</td>\n",
              "      <td>0.0</td>\n",
              "      <td>0</td>\n",
              "      <td>0</td>\n",
              "    </tr>\n",
              "    <tr>\n",
              "      <th>3</th>\n",
              "      <td>NaN</td>\n",
              "      <td>Andorra</td>\n",
              "      <td>42.5063</td>\n",
              "      <td>1.5218</td>\n",
              "      <td>1/22/20</td>\n",
              "      <td>0.0</td>\n",
              "      <td>0</td>\n",
              "      <td>0</td>\n",
              "    </tr>\n",
              "    <tr>\n",
              "      <th>4</th>\n",
              "      <td>NaN</td>\n",
              "      <td>Angola</td>\n",
              "      <td>-11.2027</td>\n",
              "      <td>17.8739</td>\n",
              "      <td>1/22/20</td>\n",
              "      <td>0.0</td>\n",
              "      <td>0</td>\n",
              "      <td>0</td>\n",
              "    </tr>\n",
              "    <tr>\n",
              "      <th>5</th>\n",
              "      <td>NaN</td>\n",
              "      <td>Antigua and Barbuda</td>\n",
              "      <td>17.0608</td>\n",
              "      <td>-61.7964</td>\n",
              "      <td>1/22/20</td>\n",
              "      <td>0.0</td>\n",
              "      <td>0</td>\n",
              "      <td>0</td>\n",
              "    </tr>\n",
              "    <tr>\n",
              "      <th>6</th>\n",
              "      <td>NaN</td>\n",
              "      <td>Argentina</td>\n",
              "      <td>-38.4161</td>\n",
              "      <td>-63.6167</td>\n",
              "      <td>1/22/20</td>\n",
              "      <td>0.0</td>\n",
              "      <td>0</td>\n",
              "      <td>0</td>\n",
              "    </tr>\n",
              "  </tbody>\n",
              "</table>\n",
              "</div>"
            ],
            "text/plain": [
              "  Province/State       Country/Region      Lat  ...  Confirmed Deaths  Recovered\n",
              "1            NaN              Albania  41.1533  ...        0.0      0          0\n",
              "2            NaN              Algeria  28.0339  ...        0.0      0          0\n",
              "3            NaN              Andorra  42.5063  ...        0.0      0          0\n",
              "4            NaN               Angola -11.2027  ...        0.0      0          0\n",
              "5            NaN  Antigua and Barbuda  17.0608  ...        0.0      0          0\n",
              "6            NaN            Argentina -38.4161  ...        0.0      0          0\n",
              "\n",
              "[6 rows x 8 columns]"
            ]
          },
          "execution_count": 19,
          "metadata": {},
          "output_type": "execute_result"
        }
      ]
    },
    {
      "cell_type": "code",
      "metadata": {
        "colab": {
          "base_uri": "https://localhost:8080/"
        },
        "id": "nEDf0QKXDR5v",
        "outputId": "3fe5adfb-7d6b-41ca-9371-bbc704416742"
      },
      "source": [
        "confirmed = data2.groupby('Date')['Confirmed'].sum().reset_index()\n",
        "confirmed.dtypes"
      ],
      "execution_count": null,
      "outputs": [
        {
          "data": {
            "text/plain": [
              "Date          object\n",
              "Confirmed    float64\n",
              "dtype: object"
            ]
          },
          "execution_count": 20,
          "metadata": {},
          "output_type": "execute_result"
        }
      ]
    },
    {
      "cell_type": "code",
      "metadata": {
        "colab": {
          "base_uri": "https://localhost:8080/",
          "height": 417
        },
        "id": "fWXlWrgOYRQj",
        "outputId": "8183bae9-0c15-47a5-8ad4-fc82ac7a18ef"
      },
      "source": [
        "confirmed"
      ],
      "execution_count": null,
      "outputs": [
        {
          "data": {
            "text/html": [
              "<div>\n",
              "<style scoped>\n",
              "    .dataframe tbody tr th:only-of-type {\n",
              "        vertical-align: middle;\n",
              "    }\n",
              "\n",
              "    .dataframe tbody tr th {\n",
              "        vertical-align: top;\n",
              "    }\n",
              "\n",
              "    .dataframe thead th {\n",
              "        text-align: right;\n",
              "    }\n",
              "</style>\n",
              "<table border=\"1\" class=\"dataframe\">\n",
              "  <thead>\n",
              "    <tr style=\"text-align: right;\">\n",
              "      <th></th>\n",
              "      <th>Date</th>\n",
              "      <th>Confirmed</th>\n",
              "    </tr>\n",
              "  </thead>\n",
              "  <tbody>\n",
              "    <tr>\n",
              "      <th>0</th>\n",
              "      <td>1/22/20</td>\n",
              "      <td>555.0</td>\n",
              "    </tr>\n",
              "    <tr>\n",
              "      <th>1</th>\n",
              "      <td>1/23/20</td>\n",
              "      <td>654.0</td>\n",
              "    </tr>\n",
              "    <tr>\n",
              "      <th>2</th>\n",
              "      <td>1/24/20</td>\n",
              "      <td>941.0</td>\n",
              "    </tr>\n",
              "    <tr>\n",
              "      <th>3</th>\n",
              "      <td>1/25/20</td>\n",
              "      <td>1434.0</td>\n",
              "    </tr>\n",
              "    <tr>\n",
              "      <th>4</th>\n",
              "      <td>1/26/20</td>\n",
              "      <td>2118.0</td>\n",
              "    </tr>\n",
              "    <tr>\n",
              "      <th>...</th>\n",
              "      <td>...</td>\n",
              "      <td>...</td>\n",
              "    </tr>\n",
              "    <tr>\n",
              "      <th>88</th>\n",
              "      <td>4/5/20</td>\n",
              "      <td>1249482.0</td>\n",
              "    </tr>\n",
              "    <tr>\n",
              "      <th>89</th>\n",
              "      <td>4/6/20</td>\n",
              "      <td>1321129.0</td>\n",
              "    </tr>\n",
              "    <tr>\n",
              "      <th>90</th>\n",
              "      <td>4/7/20</td>\n",
              "      <td>1396090.0</td>\n",
              "    </tr>\n",
              "    <tr>\n",
              "      <th>91</th>\n",
              "      <td>4/8/20</td>\n",
              "      <td>1479802.0</td>\n",
              "    </tr>\n",
              "    <tr>\n",
              "      <th>92</th>\n",
              "      <td>4/9/20</td>\n",
              "      <td>1565276.0</td>\n",
              "    </tr>\n",
              "  </tbody>\n",
              "</table>\n",
              "<p>93 rows × 2 columns</p>\n",
              "</div>"
            ],
            "text/plain": [
              "       Date  Confirmed\n",
              "0   1/22/20      555.0\n",
              "1   1/23/20      654.0\n",
              "2   1/24/20      941.0\n",
              "3   1/25/20     1434.0\n",
              "4   1/26/20     2118.0\n",
              "..      ...        ...\n",
              "88   4/5/20  1249482.0\n",
              "89   4/6/20  1321129.0\n",
              "90   4/7/20  1396090.0\n",
              "91   4/8/20  1479802.0\n",
              "92   4/9/20  1565276.0\n",
              "\n",
              "[93 rows x 2 columns]"
            ]
          },
          "execution_count": 21,
          "metadata": {},
          "output_type": "execute_result"
        }
      ]
    },
    {
      "cell_type": "code",
      "metadata": {
        "colab": {
          "base_uri": "https://localhost:8080/",
          "height": 417
        },
        "id": "hTzmYkTSDFcV",
        "outputId": "8cab29df-c8ff-497e-b7d4-317f4780e663"
      },
      "source": [
        "confirmed.rename(columns={'Date':'ds', 'Confirmed': 'y'}, inplace=True)\n",
        "confirmed"
      ],
      "execution_count": null,
      "outputs": [
        {
          "data": {
            "text/html": [
              "<div>\n",
              "<style scoped>\n",
              "    .dataframe tbody tr th:only-of-type {\n",
              "        vertical-align: middle;\n",
              "    }\n",
              "\n",
              "    .dataframe tbody tr th {\n",
              "        vertical-align: top;\n",
              "    }\n",
              "\n",
              "    .dataframe thead th {\n",
              "        text-align: right;\n",
              "    }\n",
              "</style>\n",
              "<table border=\"1\" class=\"dataframe\">\n",
              "  <thead>\n",
              "    <tr style=\"text-align: right;\">\n",
              "      <th></th>\n",
              "      <th>ds</th>\n",
              "      <th>y</th>\n",
              "    </tr>\n",
              "  </thead>\n",
              "  <tbody>\n",
              "    <tr>\n",
              "      <th>0</th>\n",
              "      <td>1/22/20</td>\n",
              "      <td>555.0</td>\n",
              "    </tr>\n",
              "    <tr>\n",
              "      <th>1</th>\n",
              "      <td>1/23/20</td>\n",
              "      <td>654.0</td>\n",
              "    </tr>\n",
              "    <tr>\n",
              "      <th>2</th>\n",
              "      <td>1/24/20</td>\n",
              "      <td>941.0</td>\n",
              "    </tr>\n",
              "    <tr>\n",
              "      <th>3</th>\n",
              "      <td>1/25/20</td>\n",
              "      <td>1434.0</td>\n",
              "    </tr>\n",
              "    <tr>\n",
              "      <th>4</th>\n",
              "      <td>1/26/20</td>\n",
              "      <td>2118.0</td>\n",
              "    </tr>\n",
              "    <tr>\n",
              "      <th>...</th>\n",
              "      <td>...</td>\n",
              "      <td>...</td>\n",
              "    </tr>\n",
              "    <tr>\n",
              "      <th>88</th>\n",
              "      <td>4/5/20</td>\n",
              "      <td>1249482.0</td>\n",
              "    </tr>\n",
              "    <tr>\n",
              "      <th>89</th>\n",
              "      <td>4/6/20</td>\n",
              "      <td>1321129.0</td>\n",
              "    </tr>\n",
              "    <tr>\n",
              "      <th>90</th>\n",
              "      <td>4/7/20</td>\n",
              "      <td>1396090.0</td>\n",
              "    </tr>\n",
              "    <tr>\n",
              "      <th>91</th>\n",
              "      <td>4/8/20</td>\n",
              "      <td>1479802.0</td>\n",
              "    </tr>\n",
              "    <tr>\n",
              "      <th>92</th>\n",
              "      <td>4/9/20</td>\n",
              "      <td>1565276.0</td>\n",
              "    </tr>\n",
              "  </tbody>\n",
              "</table>\n",
              "<p>93 rows × 2 columns</p>\n",
              "</div>"
            ],
            "text/plain": [
              "         ds          y\n",
              "0   1/22/20      555.0\n",
              "1   1/23/20      654.0\n",
              "2   1/24/20      941.0\n",
              "3   1/25/20     1434.0\n",
              "4   1/26/20     2118.0\n",
              "..      ...        ...\n",
              "88   4/5/20  1249482.0\n",
              "89   4/6/20  1321129.0\n",
              "90   4/7/20  1396090.0\n",
              "91   4/8/20  1479802.0\n",
              "92   4/9/20  1565276.0\n",
              "\n",
              "[93 rows x 2 columns]"
            ]
          },
          "execution_count": 22,
          "metadata": {},
          "output_type": "execute_result"
        }
      ]
    },
    {
      "cell_type": "code",
      "metadata": {
        "colab": {
          "base_uri": "https://localhost:8080/",
          "height": 417
        },
        "id": "k-f1SQB-G1NW",
        "outputId": "4b8ba734-24ea-436b-e9ab-36ff10612834"
      },
      "source": [
        "data2['Active'] = data2['Confirmed'] - data2['Deaths'] - data2['Recovered']\n",
        "data2"
      ],
      "execution_count": null,
      "outputs": [
        {
          "data": {
            "text/html": [
              "<div>\n",
              "<style scoped>\n",
              "    .dataframe tbody tr th:only-of-type {\n",
              "        vertical-align: middle;\n",
              "    }\n",
              "\n",
              "    .dataframe tbody tr th {\n",
              "        vertical-align: top;\n",
              "    }\n",
              "\n",
              "    .dataframe thead th {\n",
              "        text-align: right;\n",
              "    }\n",
              "</style>\n",
              "<table border=\"1\" class=\"dataframe\">\n",
              "  <thead>\n",
              "    <tr style=\"text-align: right;\">\n",
              "      <th></th>\n",
              "      <th>Province/State</th>\n",
              "      <th>Country/Region</th>\n",
              "      <th>Lat</th>\n",
              "      <th>Long</th>\n",
              "      <th>Date</th>\n",
              "      <th>Confirmed</th>\n",
              "      <th>Deaths</th>\n",
              "      <th>Recovered</th>\n",
              "      <th>Active</th>\n",
              "    </tr>\n",
              "  </thead>\n",
              "  <tbody>\n",
              "    <tr>\n",
              "      <th>0</th>\n",
              "      <td>NaN</td>\n",
              "      <td>Afghanistan</td>\n",
              "      <td>33.000000</td>\n",
              "      <td>65.000000</td>\n",
              "      <td>1/22/20</td>\n",
              "      <td>0.0</td>\n",
              "      <td>0</td>\n",
              "      <td>0</td>\n",
              "      <td>0.0</td>\n",
              "    </tr>\n",
              "    <tr>\n",
              "      <th>1</th>\n",
              "      <td>NaN</td>\n",
              "      <td>Albania</td>\n",
              "      <td>41.153300</td>\n",
              "      <td>20.168300</td>\n",
              "      <td>1/22/20</td>\n",
              "      <td>0.0</td>\n",
              "      <td>0</td>\n",
              "      <td>0</td>\n",
              "      <td>0.0</td>\n",
              "    </tr>\n",
              "    <tr>\n",
              "      <th>2</th>\n",
              "      <td>NaN</td>\n",
              "      <td>Algeria</td>\n",
              "      <td>28.033900</td>\n",
              "      <td>1.659600</td>\n",
              "      <td>1/22/20</td>\n",
              "      <td>0.0</td>\n",
              "      <td>0</td>\n",
              "      <td>0</td>\n",
              "      <td>0.0</td>\n",
              "    </tr>\n",
              "    <tr>\n",
              "      <th>3</th>\n",
              "      <td>NaN</td>\n",
              "      <td>Andorra</td>\n",
              "      <td>42.506300</td>\n",
              "      <td>1.521800</td>\n",
              "      <td>1/22/20</td>\n",
              "      <td>0.0</td>\n",
              "      <td>0</td>\n",
              "      <td>0</td>\n",
              "      <td>0.0</td>\n",
              "    </tr>\n",
              "    <tr>\n",
              "      <th>4</th>\n",
              "      <td>NaN</td>\n",
              "      <td>Angola</td>\n",
              "      <td>-11.202700</td>\n",
              "      <td>17.873900</td>\n",
              "      <td>1/22/20</td>\n",
              "      <td>0.0</td>\n",
              "      <td>0</td>\n",
              "      <td>0</td>\n",
              "      <td>0.0</td>\n",
              "    </tr>\n",
              "    <tr>\n",
              "      <th>...</th>\n",
              "      <td>...</td>\n",
              "      <td>...</td>\n",
              "      <td>...</td>\n",
              "      <td>...</td>\n",
              "      <td>...</td>\n",
              "      <td>...</td>\n",
              "      <td>...</td>\n",
              "      <td>...</td>\n",
              "      <td>...</td>\n",
              "    </tr>\n",
              "    <tr>\n",
              "      <th>24361</th>\n",
              "      <td>Saint Pierre and Miquelon</td>\n",
              "      <td>France</td>\n",
              "      <td>46.885200</td>\n",
              "      <td>-56.315900</td>\n",
              "      <td>4/23/20</td>\n",
              "      <td>1.0</td>\n",
              "      <td>0</td>\n",
              "      <td>0</td>\n",
              "      <td>1.0</td>\n",
              "    </tr>\n",
              "    <tr>\n",
              "      <th>24362</th>\n",
              "      <td>NaN</td>\n",
              "      <td>South Sudan</td>\n",
              "      <td>6.877000</td>\n",
              "      <td>31.307000</td>\n",
              "      <td>4/23/20</td>\n",
              "      <td>5.0</td>\n",
              "      <td>0</td>\n",
              "      <td>0</td>\n",
              "      <td>5.0</td>\n",
              "    </tr>\n",
              "    <tr>\n",
              "      <th>24363</th>\n",
              "      <td>NaN</td>\n",
              "      <td>Western Sahara</td>\n",
              "      <td>24.215500</td>\n",
              "      <td>-12.885800</td>\n",
              "      <td>4/23/20</td>\n",
              "      <td>6.0</td>\n",
              "      <td>0</td>\n",
              "      <td>5</td>\n",
              "      <td>1.0</td>\n",
              "    </tr>\n",
              "    <tr>\n",
              "      <th>24364</th>\n",
              "      <td>NaN</td>\n",
              "      <td>Sao Tome and Principe</td>\n",
              "      <td>0.186360</td>\n",
              "      <td>6.613081</td>\n",
              "      <td>4/23/20</td>\n",
              "      <td>4.0</td>\n",
              "      <td>0</td>\n",
              "      <td>0</td>\n",
              "      <td>4.0</td>\n",
              "    </tr>\n",
              "    <tr>\n",
              "      <th>24365</th>\n",
              "      <td>NaN</td>\n",
              "      <td>Yemen</td>\n",
              "      <td>15.552727</td>\n",
              "      <td>48.516388</td>\n",
              "      <td>4/23/20</td>\n",
              "      <td>1.0</td>\n",
              "      <td>0</td>\n",
              "      <td>0</td>\n",
              "      <td>1.0</td>\n",
              "    </tr>\n",
              "  </tbody>\n",
              "</table>\n",
              "<p>24366 rows × 9 columns</p>\n",
              "</div>"
            ],
            "text/plain": [
              "                  Province/State         Country/Region  ...  Recovered  Active\n",
              "0                            NaN            Afghanistan  ...          0     0.0\n",
              "1                            NaN                Albania  ...          0     0.0\n",
              "2                            NaN                Algeria  ...          0     0.0\n",
              "3                            NaN                Andorra  ...          0     0.0\n",
              "4                            NaN                 Angola  ...          0     0.0\n",
              "...                          ...                    ...  ...        ...     ...\n",
              "24361  Saint Pierre and Miquelon                 France  ...          0     1.0\n",
              "24362                        NaN            South Sudan  ...          0     5.0\n",
              "24363                        NaN         Western Sahara  ...          5     1.0\n",
              "24364                        NaN  Sao Tome and Principe  ...          0     4.0\n",
              "24365                        NaN                  Yemen  ...          0     1.0\n",
              "\n",
              "[24366 rows x 9 columns]"
            ]
          },
          "execution_count": 23,
          "metadata": {},
          "output_type": "execute_result"
        }
      ]
    },
    {
      "cell_type": "markdown",
      "metadata": {
        "id": "yCrMle7vZNQd"
      },
      "source": [
        "---\n",
        "---\n",
        "### **Class Assignment 2:**\n",
        "\n",
        "### Object4: Multiprocessing Library in Python\n",
        "---\n",
        "\n",
        "\n",
        "###Q1: What is the library function in multiprocessing system? Explain.\n",
        "\n",
        "Ans: In Python, the multiprocessing module includes a very simple and intuitive API for dividing work between multiple processes.\n",
        "\n",
        "To import the multiprocessing module, we do: \n",
        "\n",
        "```\n",
        "import multiprocessing\n",
        "```\n",
        "\n",
        "To create a process, we create an object of Process class. It takes following arguments:\n",
        "\n",
        "> **target:** the function to be executed by process\n",
        "\n",
        "> **args:** the arguments to be passed to the target function\n",
        "\n",
        "```\n",
        "p1 = multiprocessing.Process(target=print_square, args=(10, ))\n",
        "p2 = multiprocessing.Process(target=print_cube, args=(10, ))\n",
        "```\n",
        "To start a process, we use start method of Process class.\n",
        "```\n",
        "p1.start()\n",
        "p2.start()\n",
        "```\n",
        "Once the processes start, the current program also keeps on executing. In order to stop execution of current program until a process is complete, we use **join** method.\n",
        "```\n",
        "p1.join()\n",
        "p2.join()\n",
        "```\n",
        "As a result, the current program will first wait for the completion of p1 and then p2. Once, they are completed, the next statements of current program are executed.\n",
        "\n",
        "The main python script has a different process ID and multiprocessing module spawns new processes with different process IDs as we create Process objects **p1** and **p2**, use ```os.getpid()``` function to get ID of process running the current target function.\n",
        "\n",
        "\n",
        "---\n",
        "\n",
        "\n",
        "###Q2:  What is the difference between multiprocessing, multithreading and concurrent systems?\n",
        "\n",
        "Ans: **Multiprocessing:**\n",
        "Multiprocessing is a system that has more than one or two processors. In Multiprocessing, CPUs are added for increasing computing speed of the system. Because of Multiprocessing, There are many processes are executed simultaneously. Process creation is a time-consuming process. Every process owned a separate address space.\n",
        "\n",
        "**Multithreading:**\n",
        "Multithreading is a system in which multiple threads are created of a process for increasing the computing speed of the system. In multithreading, many threads of a process are executed simultaneously and process creation in multithreading is done according to economical. A common address space is shared by all the threads.\n",
        "\n",
        "**Concurrent System:**\n",
        "Concurrency relates to an application that is processing more than one task at the same time. Concurrency is an approach that is used for decreasing the response time of the system by using the single processing unit. Concurrency creates the misunderstanding of parallelism, however actually the chunks of a task aren’t parallelly processed, but inside the application, there are more than one task is being processed at a time. It doesn’t fully end one task before it begins next. \n",
        "\n",
        "\n",
        "---"
      ]
    },
    {
      "cell_type": "markdown",
      "metadata": {
        "id": "0w16r8twY8G_"
      },
      "source": [
        "###Q3: Write a program to print the number of cores of Multiprocessor CPU?"
      ]
    },
    {
      "cell_type": "code",
      "metadata": {
        "colab": {
          "base_uri": "https://localhost:8080/"
        },
        "id": "xZOicyY_G1B-",
        "outputId": "04fb82fa-03ff-4990-b8af-722956960244"
      },
      "source": [
        "import multiprocessing\n",
        "print(\"Number of cpu : \", multiprocessing.cpu_count())\n",
        "\n",
        "import psutil\n",
        "print(\"Number of cpu : \", psutil.cpu_count())\n",
        "\n",
        "import os\n",
        "print(\"Number of cpu : \", os.cpu_count())"
      ],
      "execution_count": null,
      "outputs": [
        {
          "name": "stdout",
          "output_type": "stream",
          "text": [
            "Number of cpu :  2\n",
            "Number of cpu :  2\n",
            "Number of cpu :  2\n"
          ]
        }
      ]
    },
    {
      "cell_type": "markdown",
      "metadata": {
        "id": "sZpS3tM6erx4"
      },
      "source": [
        "---\n",
        "---\n",
        "### Date: 08/09/2021"
      ]
    },
    {
      "cell_type": "markdown",
      "metadata": {
        "id": "m8QGBuLWStH-"
      },
      "source": [
        "#### Number of cores "
      ]
    },
    {
      "cell_type": "code",
      "metadata": {
        "colab": {
          "base_uri": "https://localhost:8080/"
        },
        "id": "9qZKCaL8ewuU",
        "outputId": "51bb2794-2c54-4e2b-a287-357434f5896a"
      },
      "source": [
        "# Number of Processor \n",
        "import multiprocessing as mp\n",
        "print(\"Number of Processor: \", mp.cpu_count())"
      ],
      "execution_count": null,
      "outputs": [
        {
          "name": "stdout",
          "output_type": "stream",
          "text": [
            "Number of Processor:  2\n"
          ]
        }
      ]
    },
    {
      "cell_type": "markdown",
      "metadata": {
        "id": "TNbEAe9ZjkgH"
      },
      "source": [
        "---\n",
        "---\n",
        "### **Object5:** Sequential Time"
      ]
    },
    {
      "cell_type": "code",
      "metadata": {
        "colab": {
          "base_uri": "https://localhost:8080/"
        },
        "id": "x2JYr7oaFFrT",
        "outputId": "ce53c2a7-2a41-4404-df33-2af70a951895"
      },
      "source": [
        "import time \n",
        "from timeit import default_timer as timer \n",
        "\n",
        "x = [1, 2, 3, 4] # Write input\n",
        "start=timer()\n",
        "y = 0 # Initialize output\n",
        "\n",
        "for i in range(len(x)):\n",
        "  y += i # Add each element to the output variable\n",
        "\n",
        "print(y) # Print output\n",
        "end1=timer()-start\n",
        "print(\"sequential time : \",end1)"
      ],
      "execution_count": null,
      "outputs": [
        {
          "name": "stdout",
          "output_type": "stream",
          "text": [
            "6\n",
            "sequential time :  0.006363653000107661\n"
          ]
        }
      ]
    },
    {
      "cell_type": "code",
      "metadata": {
        "colab": {
          "base_uri": "https://localhost:8080/"
        },
        "id": "KQKLW42wKue3",
        "outputId": "449552b2-1f45-407d-fbf3-86f89af3df54"
      },
      "source": [
        "import time \n",
        "from timeit import default_timer as timer \n",
        "import numpy as np\n",
        "\n",
        "x = [1, 2, 4, 4]\n",
        "start=timer()\n",
        "chunk1 = x[:2]\n",
        "chunk2 = x[2:]\n",
        "\n",
        "sum_1 = sum(chunk1)\n",
        "sum_2 = sum(chunk2)\n",
        "\n",
        "result = sum_1 + sum_2\n",
        "\n",
        "print(result)\n",
        "end1=timer()-start\n",
        "print(\"time : \",end1)"
      ],
      "execution_count": null,
      "outputs": [
        {
          "name": "stdout",
          "output_type": "stream",
          "text": [
            "11\n",
            "time :  0.0011303339999813034\n"
          ]
        }
      ]
    },
    {
      "cell_type": "markdown",
      "metadata": {
        "id": "4DdibgxPhTpp"
      },
      "source": [
        "---\n",
        "---\n",
        "### **Object6:** List Physical devices"
      ]
    },
    {
      "cell_type": "code",
      "metadata": {
        "colab": {
          "base_uri": "https://localhost:8080/"
        },
        "id": "3BpbKN-kK0Zr",
        "outputId": "7a9f44b5-4806-4a55-bab2-f897292aa8fc"
      },
      "source": [
        "from tensorflow.python.client import device_lib\n",
        "device_lib.list_local_devices()"
      ],
      "execution_count": null,
      "outputs": [
        {
          "data": {
            "text/plain": [
              "[name: \"/device:CPU:0\"\n",
              " device_type: \"CPU\"\n",
              " memory_limit: 268435456\n",
              " locality {\n",
              " }\n",
              " incarnation: 12627937292695172507, name: \"/device:GPU:0\"\n",
              " device_type: \"GPU\"\n",
              " memory_limit: 11345264640\n",
              " locality {\n",
              "   bus_id: 1\n",
              "   links {\n",
              "   }\n",
              " }\n",
              " incarnation: 13362648217297291934\n",
              " physical_device_desc: \"device: 0, name: Tesla K80, pci bus id: 0000:00:04.0, compute capability: 3.7\"]"
            ]
          },
          "execution_count": 1,
          "metadata": {},
          "output_type": "execute_result"
        }
      ]
    },
    {
      "cell_type": "code",
      "metadata": {
        "colab": {
          "base_uri": "https://localhost:8080/"
        },
        "id": "YUVOLmU2MHoI",
        "outputId": "b06e41c3-4306-4fd9-ee0d-74fff9495ffa"
      },
      "source": [
        "from tensorflow.python.client import device_lib\n",
        "\n",
        "def get_available_gpus():\n",
        "    local_device_protos = device_lib.list_local_devices()\n",
        "    return [x.name for x in local_device_protos if x.device_type == 'GPU']\n",
        "\n",
        "get_available_gpus()"
      ],
      "execution_count": null,
      "outputs": [
        {
          "data": {
            "text/plain": [
              "['/device:GPU:0']"
            ]
          },
          "execution_count": 2,
          "metadata": {},
          "output_type": "execute_result"
        }
      ]
    },
    {
      "cell_type": "code",
      "metadata": {
        "colab": {
          "base_uri": "https://localhost:8080/"
        },
        "id": "0_i1c1h8MQu_",
        "outputId": "112858ce-6151-467f-af7e-49a2179ba226"
      },
      "source": [
        "import tensorflow as tf\n",
        "print(\"Num GPUs Available: \", len(tf.config.experimental.list_physical_devices('GPU')))"
      ],
      "execution_count": null,
      "outputs": [
        {
          "name": "stdout",
          "output_type": "stream",
          "text": [
            "Num GPUs Available:  1\n"
          ]
        }
      ]
    },
    {
      "cell_type": "markdown",
      "metadata": {
        "id": "ESgJBfpDhG4N"
      },
      "source": [
        "---\n",
        "---\n",
        "### **Object7**: GPU Utilization"
      ]
    },
    {
      "cell_type": "code",
      "metadata": {
        "colab": {
          "base_uri": "https://localhost:8080/"
        },
        "id": "BbUKwxPVM4zc",
        "outputId": "61221bfd-edc9-4ee9-9424-a81e97ccaecc"
      },
      "source": [
        "!pip install GPUtil"
      ],
      "execution_count": null,
      "outputs": [
        {
          "name": "stdout",
          "output_type": "stream",
          "text": [
            "Collecting GPUtil\n",
            "  Downloading GPUtil-1.4.0.tar.gz (5.5 kB)\n",
            "Building wheels for collected packages: GPUtil\n",
            "  Building wheel for GPUtil (setup.py) ... \u001b[?25l\u001b[?25hdone\n",
            "  Created wheel for GPUtil: filename=GPUtil-1.4.0-py3-none-any.whl size=7411 sha256=883d35b293bdd56dcf0de899a92572f488e6f98c1062724b9b2713160d52d2b0\n",
            "  Stored in directory: /root/.cache/pip/wheels/6e/f8/83/534c52482d6da64622ddbf72cd93c35d2ef2881b78fd08ff0c\n",
            "Successfully built GPUtil\n",
            "Installing collected packages: GPUtil\n",
            "Successfully installed GPUtil-1.4.0\n"
          ]
        }
      ]
    },
    {
      "cell_type": "code",
      "metadata": {
        "colab": {
          "base_uri": "https://localhost:8080/"
        },
        "id": "6Q-RnpG8OXQP",
        "outputId": "662587b4-9220-4af9-d620-5fafae18799b"
      },
      "source": [
        "import GPUtil\n",
        "GPUtil.showUtilization()\n",
        "GPUs = GPUtil.getGPUs()"
      ],
      "execution_count": null,
      "outputs": [
        {
          "name": "stdout",
          "output_type": "stream",
          "text": [
            "| ID | GPU | MEM |\n",
            "------------------\n",
            "|  0 |  0% |  1% |\n"
          ]
        }
      ]
    },
    {
      "cell_type": "markdown",
      "metadata": {
        "id": "Y6CR4J8QQl0W"
      },
      "source": [
        "---\n",
        "---\n",
        "### **Object8**: Memory Information"
      ]
    },
    {
      "cell_type": "code",
      "metadata": {
        "colab": {
          "base_uri": "https://localhost:8080/"
        },
        "id": "NSUTzl0uOann",
        "outputId": "de7991bd-4372-4d81-c3d2-1f0a0e0937d7"
      },
      "source": [
        "!cat /proc/meminfo"
      ],
      "execution_count": null,
      "outputs": [
        {
          "name": "stdout",
          "output_type": "stream",
          "text": [
            "MemTotal:       13302924 kB\n",
            "MemFree:         9413300 kB\n",
            "MemAvailable:   12132048 kB\n",
            "Buffers:          134608 kB\n",
            "Cached:          2618264 kB\n",
            "SwapCached:            0 kB\n",
            "Active:          1289784 kB\n",
            "Inactive:        2238128 kB\n",
            "Active(anon):     639460 kB\n",
            "Inactive(anon):     2488 kB\n",
            "Active(file):     650324 kB\n",
            "Inactive(file):  2235640 kB\n",
            "Unevictable:           0 kB\n",
            "Mlocked:               0 kB\n",
            "SwapTotal:             0 kB\n",
            "SwapFree:              0 kB\n",
            "Dirty:               280 kB\n",
            "Writeback:             0 kB\n",
            "AnonPages:        775080 kB\n",
            "Mapped:           565724 kB\n",
            "Shmem:              3224 kB\n",
            "KReclaimable:     148520 kB\n",
            "Slab:             205228 kB\n",
            "SReclaimable:     148520 kB\n",
            "SUnreclaim:        56708 kB\n",
            "KernelStack:        4752 kB\n",
            "PageTables:         8400 kB\n",
            "NFS_Unstable:          0 kB\n",
            "Bounce:                0 kB\n",
            "WritebackTmp:          0 kB\n",
            "CommitLimit:     6651460 kB\n",
            "Committed_AS:    3526244 kB\n",
            "VmallocTotal:   34359738367 kB\n",
            "VmallocUsed:       46464 kB\n",
            "VmallocChunk:          0 kB\n",
            "Percpu:             1400 kB\n",
            "AnonHugePages:         0 kB\n",
            "ShmemHugePages:        0 kB\n",
            "ShmemPmdMapped:        0 kB\n",
            "FileHugePages:         0 kB\n",
            "FilePmdMapped:         0 kB\n",
            "CmaTotal:              0 kB\n",
            "CmaFree:               0 kB\n",
            "HugePages_Total:       0\n",
            "HugePages_Free:        0\n",
            "HugePages_Rsvd:        0\n",
            "HugePages_Surp:        0\n",
            "Hugepagesize:       2048 kB\n",
            "Hugetlb:               0 kB\n",
            "DirectMap4k:      193344 kB\n",
            "DirectMap2M:     6094848 kB\n",
            "DirectMap1G:     9437184 kB\n"
          ]
        }
      ]
    },
    {
      "cell_type": "markdown",
      "metadata": {
        "id": "bxxoQumHRicD"
      },
      "source": [
        "---\n",
        "---\n",
        "### **Class Assignment3:**\n",
        "---\n",
        "### Q1: Explain the significance of numpy and tensorflow packages in python?\n",
        "\n",
        "Ans: **Numpy** is one of the most commonly used pen-source numerical library for scientific computing in Python. It provides a multidimensional array object, as well as variations such as masks and matrices, which can be used for various math operations. Numpy is compatible with, and used by many other popular Python packages, including pandas and matplotlib.\n",
        "\n",
        "It’s faster than regular Python arrays, which lack numpy’s optimized and pre-compiled C code that does all the heavy lifting. Another reason is that numpy arrays and operations are vectorized, which means they lack explicit looping or indexing in the code. This makes the code not only more readable, but also more similar to standard mathematical notation. \n",
        "\n",
        "**Tensorflow** is a low-level library which provides more flexibility. Thus you can define your own functionalities or services for your models. This is a very important parameter for researchers because it allows them to change the model based on changing user requirements.\n",
        "\n",
        "TensorFlow provides more network control. Thus allowing developers and researchers to understand how operations are implemented across the network. They can always keep track of new changes done over time\n",
        "\n",
        "---"
      ]
    },
    {
      "cell_type": "markdown",
      "metadata": {
        "id": "lN4VxCA6RZuR"
      },
      "source": [
        "### Q2: Write a python program to perform an addition of an array element in seqential manner and multiprocessing(module). Also compare the time between sequential and multiprocessing."
      ]
    },
    {
      "cell_type": "code",
      "metadata": {
        "colab": {
          "base_uri": "https://localhost:8080/"
        },
        "id": "b5Abi72madjk",
        "outputId": "638a440f-3a36-47de-be8a-a67934d6e77f"
      },
      "source": [
        "import time\n",
        "import multiprocessing as mp\n",
        "import numpy as np\n",
        "\n",
        "num = range(1, 1000001)\n",
        "chunk1 = num[: len(num)//2]\n",
        "chunk2 = num[len(num)//2 :]\n",
        "\n",
        "def sequential_sum(num):\n",
        "    start = time.time()\n",
        "    result = 0\n",
        "    for i in num:\n",
        "        result = result + i\n",
        "    print(\"sequential_time: \",time.time() - start)\n",
        "    return result\n",
        "\n",
        "\n",
        "def parallel_sum(chunk1, chunk2):\n",
        "    start = time.time()\n",
        "    p1 = mp.Process(target=sum, args=(chunk1, ))\n",
        "    p2 = mp.Process(target=sum, args=(chunk2, ))\n",
        "  \n",
        "    p1.start()\n",
        "    p2.start()   \n",
        "\n",
        "    p1.join()   \n",
        "    p2.join()\n",
        "    print(\"parallel_time: \",time.time() - start)\n",
        "\n",
        "print(sequential_sum(num))\n",
        "parallel_sum(chunk1, chunk2)"
      ],
      "execution_count": null,
      "outputs": [
        {
          "name": "stdout",
          "output_type": "stream",
          "text": [
            "sequential_time:  0.07486152648925781\n",
            "500000500000\n",
            "parallel_time:  0.06376528739929199\n"
          ]
        }
      ]
    },
    {
      "cell_type": "code",
      "metadata": {
        "colab": {
          "base_uri": "https://localhost:8080/"
        },
        "id": "QcXEU9X-li0-",
        "outputId": "9ba7b77a-b667-4411-ba3a-ec688858b87c"
      },
      "source": [
        "import time\n",
        "import numpy as np\n",
        "import multiprocessing as mp\n",
        "\n",
        "# Prepare data\n",
        "np.random.RandomState(100)\n",
        "data = np.arange(1000000)\n",
        "\n",
        "start = time.time()\n",
        "ans = sum(data)\n",
        "print(\"sequentail_time:\", time.time() - start , 's')\n",
        "print(ans)\n",
        "\n",
        "\n",
        "start = time.time()\n",
        "\n",
        "pool = mp.Pool(mp.cpu_count())\n",
        "\n",
        "data = data.reshape(100, 10000)\n",
        "\n",
        "results = pool.map(sum, [row for row in data])\n",
        "\n",
        "final_result = sum(results)\n",
        "\n",
        "pool.close()    \n",
        "\n",
        "print(final_result)\n",
        "\n",
        "print(\"multiprocessing_time: \",time.time() - start, \"s\")"
      ],
      "execution_count": null,
      "outputs": [
        {
          "name": "stdout",
          "output_type": "stream",
          "text": [
            "sequentail_time: 0.5042943954467773 s\n",
            "499999500000\n",
            "499999500000\n",
            "multiprocessing_time:  0.4003880023956299 s\n"
          ]
        }
      ]
    },
    {
      "cell_type": "markdown",
      "metadata": {
        "id": "cf89-OMptzjz"
      },
      "source": [
        "---\n",
        "---"
      ]
    },
    {
      "cell_type": "markdown",
      "metadata": {
        "id": "TEavijV3vU7Y"
      },
      "source": [
        "### Date 22/09/2021"
      ]
    },
    {
      "cell_type": "markdown",
      "metadata": {
        "id": "g9nxuUFwYuwD"
      },
      "source": [
        "---\n",
        "---\n",
        "### **Object9**: Pool Function"
      ]
    },
    {
      "cell_type": "markdown",
      "metadata": {
        "id": "DRFBvNFsHF1X"
      },
      "source": [
        "#### Square of an element by using Pool class of multiprocessing mode"
      ]
    },
    {
      "cell_type": "code",
      "metadata": {
        "colab": {
          "base_uri": "https://localhost:8080/",
          "height": 430
        },
        "id": "B8KnbvnPt4cr",
        "outputId": "0c28bc8e-1c81-48ac-d081-86930b178272"
      },
      "source": [
        "import multiprocessing as mp \n",
        "import os \n",
        "import time\n",
        "from timeit import default_timer as timer\n",
        "import matplotlib.pyplot as plt\n",
        "\n",
        "\n",
        "def square(n):\n",
        "  time.sleep(0.04)\n",
        "  print(\"Worker process id for {0}: {1}\".format(n, os.getpid())) \n",
        "  return (n*n) \n",
        "  \n",
        "if __name__ == \"__main__\": \n",
        "    # input list \n",
        "    mylist = [5,123456]\n",
        "    start=timer()\n",
        "    for i in mylist:\n",
        "      time.sleep(0.04)\n",
        "      print(i*i)\n",
        "    end1=timer()-start\n",
        "    print(\"sequential time is \" ,end1)\n",
        "\n",
        "    start=timer()\n",
        "    # creating a pool\n",
        "    p = mp.Pool() \n",
        "    result = p.map(square, mylist) \n",
        "    end2=timer()-start\n",
        "    print(\"parallel processing time is \" ,end2)\n",
        "    print(result)\n",
        "    print(\"length of list : \",len(mylist))\n",
        "\n",
        "    fig = plt.figure()\n",
        "    t = ['sequential', 'parallel(pool)']\n",
        "    exe_time = [end1,end2]\n",
        "    plt.bar(t,exe_time, color ='green') \n",
        "    plt.xlabel(\"different functins\") \n",
        "    plt.ylabel(\"time taken\") \n",
        "    plt.title(\"time taken by sequential and pool process\")\n",
        "    plt.show()\n"
      ],
      "execution_count": null,
      "outputs": [
        {
          "name": "stdout",
          "output_type": "stream",
          "text": [
            "25\n",
            "15241383936\n",
            "sequential time is  0.08149726299996018\n",
            "Worker process id for 5: 219\n",
            "Worker process id for 123456: 220\n",
            "parallel processing time is  0.07033482700001059\n",
            "[25, 15241383936]\n",
            "length of list :  2\n"
          ]
        },
        {
          "data": {
            "image/png": "[encoded data removed]",
            "text/plain": [
              "<Figure size 432x288 with 1 Axes>"
            ]
          },
          "metadata": {},
          "output_type": "display_data"
        }
      ]
    },
    {
      "cell_type": "markdown",
      "metadata": {
        "id": "y6KA6S6rMRCG"
      },
      "source": [
        "#### What is the JIT in python?"
      ]
    },
    {
      "cell_type": "code",
      "metadata": {
        "colab": {
          "base_uri": "https://localhost:8080/",
          "height": 362
        },
        "id": "Wf8yZldwMvgM",
        "outputId": "399b1546-c24a-471f-8a02-a8b28711d605"
      },
      "source": [
        "from numba import jit \n",
        "import numpy as np \n",
        "# to measure exec time \n",
        "from timeit import default_timer as timer \n",
        "import time\n",
        "\n",
        "# normal function to run on cpu \n",
        "def func(a):\t\t\t\t\t\t\t\t \n",
        "\t  for i in range(5000000): \n",
        "\t\t    a[i]+= 1\t\n",
        "\n",
        "# function optimized to run on gpu \n",
        "@jit\n",
        "#(target =\"cuda\")\t\t\t\t\t\t \n",
        "def func2(a): \n",
        "\t  for i in range(5000000): \n",
        "\t\t    a[i]+= 1\n",
        "    \n",
        "if __name__==\"__main__\": \n",
        "    n = 5000000\t\t\t\t\t\t\t\n",
        "    a = np.ones(n, dtype = np.float64) \n",
        "    b = np.ones(n, dtype = np.float32) \n",
        "      \n",
        "    start = timer() \n",
        "    \n",
        "    func(a) \n",
        "      \n",
        "    print(\"without GPU:\", timer()-start)\t \n",
        "      \n",
        "    start = timer() \n",
        "    func2(a)\n",
        "    print(\"with GPU:\", timer()-start) \n",
        "    import matplotlib.pyplot as plt\n",
        "    import numpy as np\n",
        "    plt.title(\"CPU Vs GPU TIME\")\n",
        "    plt.xlabel('Time in second')\n",
        "    plt.ylabel('number')\n",
        "    plt.plot([2.282669633000296,4.837626839000222],[5000000,10000000],label='CPU time')\n",
        "    plt.plot([0.05965698399995745,0.0645296880002206],[5000000,10000000],label='GPU time')\n",
        "    plt.legend() \n",
        "    func(a) \n",
        "      \n",
        "    print(\"without GPU:\", timer()-start)\t \n",
        "      \n",
        "    start = timer() \n",
        "    func2(a) \n",
        "    print(\"with GPU:\", timer()-start) \n",
        "    import matplotlib.pyplot as plt\n",
        "    import numpy as np\n",
        "    plt.title(\"CPU Vs GPU TIME\")\n",
        "    plt.xlabel('Time in second')\n",
        "    plt.ylabel('number')\n",
        "    plt.plot([2.282669633000296,4.837626839000222],[5000000,10000000],label='CPU time')\n",
        "    plt.plot([0.05965698399995745,0.0645296880002206],[5000000,10000000],label='GPU time')\n",
        "    plt.legend() "
      ],
      "execution_count": null,
      "outputs": [
        {
          "name": "stdout",
          "output_type": "stream",
          "text": [
            "without GPU: 2.9479437009999856\n",
            "with GPU: 0.08871452000039426\n",
            "without GPU: 3.098679964000439\n",
            "with GPU: 0.004786992999925133\n"
          ]
        },
        {
          "data": {
            "image/png": "[encoded data removed]",
            "text/plain": [
              "<Figure size 432x288 with 1 Axes>"
            ]
          },
          "metadata": {},
          "output_type": "display_data"
        }
      ]
    },
    {
      "cell_type": "code",
      "metadata": {
        "colab": {
          "base_uri": "https://localhost:8080/"
        },
        "id": "DNlxsTqpPX7r",
        "outputId": "2e55ed45-ba52-4578-c473-933c8a86c9c9"
      },
      "source": [
        "import multiprocessing as mp \n",
        "import os \n",
        "  \n",
        "def square(n): \n",
        "    print(\"Worker process id for {0}: {1}\".format(n, os.getpid())) \n",
        "    return (n*n) \n",
        "  \n",
        "if __name__ == \"__main__\": \n",
        "    # input list \n",
        "    mylist = [1,2,3,4,5] \n",
        "  \n",
        "    # creating a pool object \n",
        "    p = mp.Pool() \n",
        "  \n",
        "    # map list to target function \n",
        "    result = p.map(square, mylist) \n",
        "  \n",
        "    print(result)\n"
      ],
      "execution_count": null,
      "outputs": [
        {
          "name": "stdout",
          "output_type": "stream",
          "text": [
            "Worker process id for 1: 334\n",
            "Worker process id for 2: 335\n",
            "Worker process id for 3: 334\n",
            "Worker process id for 5: 335\n",
            "Worker process id for 4: 334\n",
            "[1, 4, 9, 16, 25]\n"
          ]
        }
      ]
    },
    {
      "cell_type": "markdown",
      "metadata": {
        "id": "H0EM1ZKQRYQi"
      },
      "source": [
        "#### Python program to find square of the list using a pool class (CPU RUNTIME)"
      ]
    },
    {
      "cell_type": "code",
      "metadata": {
        "colab": {
          "base_uri": "https://localhost:8080/"
        },
        "id": "yB05ZJYtQrkn",
        "outputId": "9445bf97-d0de-4f3e-9229-fce7e054823a"
      },
      "source": [
        "import multiprocessing as mp\n",
        "import time\n",
        "import os\n",
        "\n",
        "def square(n):\n",
        "    return (n * n)\n",
        "\n",
        "if __name__ == \"__main__\":\n",
        "    # input list\n",
        "    mylist = [1, 2, 3, 4, 5]\n",
        "\n",
        "    start = time.time()\n",
        "    \n",
        "    # creating a pool object\n",
        "    p = mp.Pool()\n",
        "\n",
        "    # map list to target function\n",
        "    result = p.map(square, mylist)\n",
        "\n",
        "    print(result)\n",
        "    print('time:', time.time() - start)"
      ],
      "execution_count": null,
      "outputs": [
        {
          "name": "stdout",
          "output_type": "stream",
          "text": [
            "[1, 4, 9, 16, 25]\n",
            "time: 0.03404402732849121\n"
          ]
        }
      ]
    },
    {
      "cell_type": "markdown",
      "metadata": {
        "id": "yHfTSO1bWUzy"
      },
      "source": [
        "#### Python program to find square of the list using a pool class (GPU RUNTIME)"
      ]
    },
    {
      "cell_type": "code",
      "metadata": {
        "colab": {
          "base_uri": "https://localhost:8080/"
        },
        "id": "PyJaJnYpR9RR",
        "outputId": "806b4655-3e27-4a7f-dd76-7b7b9c2d4c74"
      },
      "source": [
        "import multiprocessing as mp\n",
        "import time\n",
        "import os\n",
        "\n",
        "def square(n):\n",
        "    return (n * n)\n",
        "\n",
        "if __name__ == \"__main__\":\n",
        "    # input list\n",
        "    mylist = [1, 2, 3, 4, 5]\n",
        "\n",
        "    # Initialize the timer\n",
        "    start = time.time()\n",
        "\n",
        "    # creating a pool objec and map list to target function\n",
        "    result = mp.Pool().map(square, mylist)\n",
        "\n",
        "    print(result)\n",
        "    print('time:', time.time() - start)"
      ],
      "execution_count": null,
      "outputs": [
        {
          "name": "stdout",
          "output_type": "stream",
          "text": [
            "[1, 4, 9, 16, 25]\n",
            "time: 0.0320897102355957\n"
          ]
        }
      ]
    },
    {
      "cell_type": "markdown",
      "metadata": {
        "id": "h4PTkQlQCBe_"
      },
      "source": [
        "---\n",
        "---\n",
        "### Date: 29/09/2021"
      ]
    },
    {
      "cell_type": "markdown",
      "metadata": {
        "id": "hYcCicqECZ5z"
      },
      "source": [
        "#### **Object-10:** Sequential and Parallel operation to perform the power operation"
      ]
    },
    {
      "cell_type": "code",
      "metadata": {
        "colab": {
          "base_uri": "https://localhost:8080/"
        },
        "id": "pwT6zNvhWMGQ",
        "outputId": "f9d003fc-1015-4a27-ec91-b8c1bda60683"
      },
      "source": [
        "import time\n",
        "from timeit import default_timer as timer\n",
        "from multiprocessing import Pool, cpu_count\n",
        "\n",
        "\n",
        "def power(x, n):\n",
        "\n",
        "    time.sleep(1)\n",
        "\n",
        "    return x ** n\n",
        "\n",
        "\n",
        "def main():\n",
        "\n",
        "    start = timer()\n",
        "\n",
        "    print(f'starting computations on {cpu_count()} cores')\n",
        "\n",
        "    values = [2, 4, 5]\n",
        "    values1= [2, 3, 5]\n",
        "    res = list(map(power,values,values1))\n",
        "    print(res)\n",
        "    end = timer()\n",
        "    print(f'elapsed time: {end - start}')\n",
        "\n",
        "\n",
        "if __name__ == '__main__':\n",
        "    main()"
      ],
      "execution_count": null,
      "outputs": [
        {
          "name": "stdout",
          "output_type": "stream",
          "text": [
            "starting computations on 2 cores\n",
            "[4, 64, 3125]\n",
            "elapsed time: 3.0034548029998405\n"
          ]
        }
      ]
    },
    {
      "cell_type": "code",
      "metadata": {
        "colab": {
          "base_uri": "https://localhost:8080/"
        },
        "id": "hNE5VBTIJabI",
        "outputId": "033f0c9c-bcd0-4726-bac4-efbf03c662c5"
      },
      "source": [
        "import time\n",
        "import os\n",
        "from timeit import default_timer as timer\n",
        "from multiprocessing import Pool, cpu_count\n",
        "\n",
        "\n",
        "def power(x, n):\n",
        "\n",
        "    time.sleep(1)\n",
        "    print(\"child process id:\", os.getpid())\n",
        "    return x ** n\n",
        "\n",
        "\n",
        "def main():\n",
        "\n",
        "    start = timer()\n",
        "\n",
        "    print(f'starting computations on {cpu_count()} cores')\n",
        "    print(\"parent process id:\", os.getpid())\n",
        "\n",
        "    values = ((2, 2), (4, 3), (5, 5))\n",
        "\n",
        "    with Pool() as pool:\n",
        "        res = pool.starmap(power, values)\n",
        "        print(res)\n",
        "\n",
        "    end = timer()\n",
        "    print(f'elapsed time: {end - start}')\n",
        "if __name__ == '__main__':\n",
        "    main()"
      ],
      "execution_count": null,
      "outputs": [
        {
          "name": "stdout",
          "output_type": "stream",
          "text": [
            "starting computations on 2 cores\n",
            "parent process id: 66\n",
            "child process id: 337\n",
            "child process id: 338\n",
            "child process id: 337\n",
            "[4, 64, 3125]\n",
            "elapsed time: 2.129622634000043\n"
          ]
        }
      ]
    },
    {
      "cell_type": "markdown",
      "metadata": {
        "id": "w544398aK3t5"
      },
      "source": [
        "----\n",
        "#### **Object11:** Plotting"
      ]
    },
    {
      "cell_type": "code",
      "metadata": {
        "colab": {
          "base_uri": "https://localhost:8080/",
          "height": 265
        },
        "id": "0gkaSbQaJqi2",
        "outputId": "9002a777-485c-435f-ad09-9943eb096b45"
      },
      "source": [
        "import matplotlib.pyplot as plt\n",
        "x = [5, 2, 9, 4, 7] \n",
        "  \n",
        "# Y-axis values \n",
        "y = [10, 5, 8, 4, 2] \n",
        "  \n",
        "# Function to plot \n",
        "plt.plot(x,y) \n",
        "  \n",
        "# function to show the plot \n",
        "plt.show() "
      ],
      "execution_count": null,
      "outputs": [
        {
          "data": {
            "image/png": "[encoded data removed]",
            "text/plain": [
              "<Figure size 432x288 with 1 Axes>"
            ]
          },
          "metadata": {},
          "output_type": "display_data"
        }
      ]
    },
    {
      "cell_type": "code",
      "metadata": {
        "colab": {
          "base_uri": "https://localhost:8080/",
          "height": 265
        },
        "id": "VdsDZ0k-K2fT",
        "outputId": "60883359-6348-439a-a369-01b0e350d9bb"
      },
      "source": [
        "x = [5, 2, 9, 4, 7] \n",
        "  \n",
        "# Y-axis values \n",
        "y = [10, 5, 8, 4, 2] \n",
        "  \n",
        "# Function to plot the bar \n",
        "plt.bar(x,y) \n",
        "plt.ylabel('some numbers')\n",
        "# function to show the plot \n",
        "plt.show() \n"
      ],
      "execution_count": null,
      "outputs": [
        {
          "data": {
            "image/png": "[encoded data removed]",
            "text/plain": [
              "<Figure size 432x288 with 1 Axes>"
            ]
          },
          "metadata": {},
          "output_type": "display_data"
        }
      ]
    },
    {
      "cell_type": "code",
      "metadata": {
        "colab": {
          "base_uri": "https://localhost:8080/"
        },
        "id": "z_FubVduPqcX",
        "outputId": "932c1cf5-6416-4abf-ea73-44ce87bb8083"
      },
      "source": [
        "import time\n",
        "from timeit import default_timer as timer\n",
        "from multiprocessing import Pool, cpu_count\n",
        "\n",
        "\n",
        "def power(x, n):\n",
        "\n",
        "    time.sleep(1)\n",
        "\n",
        "    return x ** n\n",
        "\n",
        "\n",
        "def main():\n",
        "\n",
        "    start = timer()\n",
        "\n",
        "    print(f'starting computations on {cpu_count()} cores')\n",
        "\n",
        "    values = [2, 4, 5, 5, 6, 7]\n",
        "    values1= [2, 3, 5, 6, 7, 8]\n",
        "    res = list(map(power,values,values1))\n",
        "    print(res)\n",
        "    end = timer()\n",
        "    print(f'elapsed time: {end - start}')\n",
        "\n",
        "\n",
        "if __name__ == '__main__':\n",
        "    main()"
      ],
      "execution_count": null,
      "outputs": [
        {
          "name": "stdout",
          "output_type": "stream",
          "text": [
            "starting computations on 2 cores\n",
            "[4, 64, 3125, 15625, 279936, 5764801]\n",
            "elapsed time: 6.00741122799991\n"
          ]
        }
      ]
    },
    {
      "cell_type": "code",
      "metadata": {
        "colab": {
          "base_uri": "https://localhost:8080/"
        },
        "id": "PXCmvdxoPqZq",
        "outputId": "3082c032-1d72-4248-f5e9-a98d5a063064"
      },
      "source": [
        "import time\n",
        "import os\n",
        "from timeit import default_timer as timer\n",
        "from multiprocessing import Pool, cpu_count\n",
        "\n",
        "\n",
        "def power(x, n):\n",
        "\n",
        "    time.sleep(1)\n",
        "    print(\"child process id:\", os.getpid())\n",
        "    return x ** n\n",
        "\n",
        "\n",
        "def main():\n",
        "\n",
        "    start = timer()\n",
        "\n",
        "    print(f'starting computations on {cpu_count()} cores')\n",
        "    print(\"parent process id:\", os.getpid())\n",
        "\n",
        "    values = ((2, 2), (4, 3), (5, 5), (6, 5), (7, 6), (8, 7))\n",
        "\n",
        "    with Pool() as pool:\n",
        "        res = pool.starmap(power, values)\n",
        "        print(res)\n",
        "\n",
        "    end = timer()\n",
        "    print(f'elapsed time: {end - start}')\n",
        "if __name__ == '__main__':\n",
        "    main()"
      ],
      "execution_count": null,
      "outputs": [
        {
          "name": "stdout",
          "output_type": "stream",
          "text": [
            "starting computations on 2 cores\n",
            "parent process id: 66\n",
            "child process id: 319\n",
            "child process id: 318\n",
            "child process id: 319\n",
            "child process id: 318\n",
            "child process id: 319\n",
            "child process id: 318\n",
            "[4, 64, 3125, 7776, 117649, 2097152]\n",
            "elapsed time: 3.136244112999975\n"
          ]
        }
      ]
    },
    {
      "cell_type": "code",
      "metadata": {
        "colab": {
          "base_uri": "https://localhost:8080/"
        },
        "id": "Ed4KCF0cPqXQ",
        "outputId": "70a14c8f-853d-40b9-bd6c-084699603ff8"
      },
      "source": [
        "import time\n",
        "from timeit import default_timer as timer\n",
        "from multiprocessing import Pool, cpu_count\n",
        "\n",
        "\n",
        "def power(x, n):\n",
        "\n",
        "    time.sleep(1)\n",
        "    print(\"child process id:\", os.getpid())\n",
        "    return x ** n\n",
        "\n",
        "\n",
        "def main():\n",
        "\n",
        "    start = timer()\n",
        "\n",
        "    print(f'starting computations on {cpu_count()} cores')\n",
        "    print(\"parent process id:\", os.getpid())\n",
        "    values = [2, 4, 5, 5, 6, 7, 2, 4, 5]\n",
        "    values1= [2, 3, 5, 6, 7, 8, 2, 3, 5]\n",
        "    res = list(map(power,values,values1))\n",
        "    print(res)\n",
        "    end = timer()\n",
        "    print(f'elapsed time: {end - start}')\n",
        "\n",
        "\n",
        "if __name__ == '__main__':\n",
        "    main()"
      ],
      "execution_count": null,
      "outputs": [
        {
          "name": "stdout",
          "output_type": "stream",
          "text": [
            "starting computations on 2 cores\n",
            "parent process id: 66\n",
            "child process id: 66\n",
            "child process id: 66\n",
            "child process id: 66\n",
            "child process id: 66\n",
            "child process id: 66\n",
            "child process id: 66\n",
            "child process id: 66\n",
            "child process id: 66\n",
            "child process id: 66\n",
            "[4, 64, 3125, 15625, 279936, 5764801, 4, 64, 3125]\n",
            "elapsed time: 9.01167716100008\n"
          ]
        }
      ]
    },
    {
      "cell_type": "code",
      "metadata": {
        "colab": {
          "base_uri": "https://localhost:8080/"
        },
        "id": "Wd8_CDMwPqOs",
        "outputId": "fbd99450-8d6b-4f83-8b64-63770b078c65"
      },
      "source": [
        "import time\n",
        "import os\n",
        "from timeit import default_timer as timer\n",
        "from multiprocessing import Pool, cpu_count\n",
        "\n",
        "\n",
        "def power(x, n):\n",
        "\n",
        "    time.sleep(1)\n",
        "    print(\"child process id:\", os.getpid())\n",
        "    return x ** n\n",
        "\n",
        "\n",
        "def main():\n",
        "\n",
        "    start = timer()\n",
        "\n",
        "    print(f'starting computations on {cpu_count()} cores')\n",
        "    print(\"parent process id:\", os.getpid())\n",
        "\n",
        "    values = ((2, 2), (4, 3), (5, 5), (6, 5), (7, 6), (8, 7), (2, 2), (4, 3), (5, 5))\n",
        "\n",
        "    with Pool() as pool:\n",
        "        res = pool.starmap(power, values)\n",
        "        print(res)\n",
        "\n",
        "    end = timer()\n",
        "    print(f'elapsed time: {end - start}')\n",
        "if __name__ == '__main__':\n",
        "    main()"
      ],
      "execution_count": null,
      "outputs": [
        {
          "name": "stdout",
          "output_type": "stream",
          "text": [
            "starting computations on 2 cores\n",
            "parent process id: 66\n",
            "child process id: 272\n",
            "child process id: 273\n",
            "child process id: 272\n",
            "child process id: 273\n",
            "child process id: 272\n",
            "child process id: 273\n",
            "child process id: 272\n",
            "child process id: 273\n",
            "child process id: 272\n",
            "[4, 64, 3125, 7776, 117649, 2097152, 4, 64, 3125]\n",
            "elapsed time: 5.136190207999789\n"
          ]
        }
      ]
    },
    {
      "cell_type": "code",
      "metadata": {
        "colab": {
          "base_uri": "https://localhost:8080/",
          "height": 313
        },
        "id": "HDj5KFPzLJ9p",
        "outputId": "bf3ef3fb-c4be-46bd-e2aa-7aa2bce98c8d"
      },
      "source": [
        "import matplotlib.pyplot as plt\n",
        "import numpy as np\n",
        "plt.title(\"Sequential time Vs Parallel time\")\n",
        "plt.xlabel('Time in second')\n",
        "plt.ylabel('Data length')\n",
        "plt.plot([3.00,6.006,9.007],[3,6,9],label='Sequential time')\n",
        "plt.plot([2.02,3.02,5.036],[3,6,9],label='Parallel time')\n",
        "plt.legend()"
      ],
      "execution_count": null,
      "outputs": [
        {
          "data": {
            "text/plain": [
              "<matplotlib.legend.Legend at 0x7fbd07d78350>"
            ]
          },
          "execution_count": 21,
          "metadata": {},
          "output_type": "execute_result"
        },
        {
          "data": {
            "image/png": "[encoded data removed]",
            "text/plain": [
              "<Figure size 432x288 with 1 Axes>"
            ]
          },
          "metadata": {},
          "output_type": "display_data"
        }
      ]
    },
    {
      "cell_type": "code",
      "metadata": {
        "colab": {
          "base_uri": "https://localhost:8080/",
          "height": 313
        },
        "id": "P-YzNPqlTtnz",
        "outputId": "e7af37c9-9089-4563-b606-a22343bd194f"
      },
      "source": [
        "import matplotlib.pyplot as plt\n",
        "import numpy as np\n",
        "plt.title(\"Sequential time Vs Parallel time\")\n",
        "plt.xlabel('Speed Up')\n",
        "plt.ylabel(\"Data Length\")\n",
        "plt.plot([3.00/2.02, 6.006/3.02, 9.007/5.036], [3, 6, 9], label='Speed up')\n",
        "plt.legend()"
      ],
      "execution_count": null,
      "outputs": [
        {
          "output_type": "execute_result",
          "data": {
            "text/plain": [
              "<matplotlib.legend.Legend at 0x7f77c6f1f790>"
            ]
          },
          "metadata": {},
          "execution_count": 2
        },
        {
          "output_type": "display_data",
          "data": {
            "image/png": "[encoded data removed]",
            "text/plain": [
              "<Figure size 432x288 with 1 Axes>"
            ]
          },
          "metadata": {
            "needs_background": "light"
          }
        }
      ]
    },
    {
      "cell_type": "markdown",
      "metadata": {
        "id": "xlCQwwXbSSLu"
      },
      "source": [
        "#### **Object12:** Write a python program to convert Celsius to Fahrenhite in sequential and parallel using Pool class of multiprocessing and draw a elaspe time graph and speed up graph."
      ]
    },
    {
      "cell_type": "code",
      "metadata": {
        "colab": {
          "base_uri": "https://localhost:8080/"
        },
        "id": "QZtc2nOoWfeM",
        "outputId": "51ad54b4-01ce-4e72-9f5f-5458c4dcab75"
      },
      "source": [
        "import time\n",
        "from timeit import default_timer as timer\n",
        "from multiprocessing import Pool, cpu_count\n",
        "\n",
        "\n",
        "# calculate fahrenheit\n",
        "def fahrenheit(celsius):\n",
        "    time.sleep(1)\n",
        "    return (celsius * 1.8) + 32\n",
        "\n",
        "def main():\n",
        "\n",
        "    start = timer()\n",
        "\n",
        "    print(f'starting computations on {cpu_count()} cores')\n",
        "    celsius = (37, 45, 30)\n",
        "\n",
        "    res = list(map(fahrenheit, celsius))\n",
        "    print(res)\n",
        "    end = timer()\n",
        "    print(f'elapsed time: {end - start}')\n",
        "\n",
        "\n",
        "if __name__ == '__main__':\n",
        "    main()"
      ],
      "execution_count": null,
      "outputs": [
        {
          "name": "stdout",
          "output_type": "stream",
          "text": [
            "starting computations on 2 cores\n",
            "[98.60000000000001, 113.0, 86.0]\n",
            "elapsed time: 3.0035048130002906\n"
          ]
        }
      ]
    },
    {
      "cell_type": "code",
      "metadata": {
        "colab": {
          "base_uri": "https://localhost:8080/"
        },
        "id": "kH9LaezRSFuv",
        "outputId": "227da5a7-7b29-46d0-f3ef-b5d2aaf58a8d"
      },
      "source": [
        "import time\n",
        "import os\n",
        "from timeit import default_timer as timer\n",
        "from multiprocessing import Pool, cpu_count\n",
        "\n",
        "# calculate fahrenheit\n",
        "def fahrenheit(celsius):\n",
        "    time.sleep(1)\n",
        "    return (celsius * 1.8) + 32\n",
        "\n",
        "\n",
        "def main():\n",
        "\n",
        "    start = timer()\n",
        "\n",
        "    print(f'starting computations on {cpu_count()} cores')\n",
        "\n",
        "    celsius = (37, 45, 30)\n",
        "\n",
        "    with Pool() as pool:\n",
        "        res = pool.map(fahrenheit, celsius)\n",
        "        print(res)\n",
        "\n",
        "    end = timer()\n",
        "    print(f'elapsed time: {end - start}s')\n",
        "if __name__ == '__main__':\n",
        "    main()"
      ],
      "execution_count": null,
      "outputs": [
        {
          "name": "stdout",
          "output_type": "stream",
          "text": [
            "starting computations on 2 cores\n",
            "[98.60000000000001, 113.0, 86.0]\n",
            "elapsed time: 2.027381590999539s\n"
          ]
        }
      ]
    },
    {
      "cell_type": "code",
      "metadata": {
        "colab": {
          "base_uri": "https://localhost:8080/"
        },
        "id": "t8wiU3LNX2lj",
        "outputId": "dcd20cce-a8d4-4c4b-a794-6f707ce10b6c"
      },
      "source": [
        "import time\n",
        "from timeit import default_timer as timer\n",
        "from multiprocessing import Pool, cpu_count\n",
        "\n",
        "\n",
        "# calculate fahrenheit\n",
        "def fahrenheit(celsius):\n",
        "    time.sleep(1)\n",
        "    return (celsius * 1.8) + 32\n",
        "\n",
        "def main():\n",
        "\n",
        "    start = timer()\n",
        "\n",
        "    print(f'starting computations on {cpu_count()} cores')\n",
        "    celsius = (37, 45, 30, 20, 10, 35)\n",
        "\n",
        "    res = list(map(fahrenheit, celsius))\n",
        "    print(res)\n",
        "    end = timer()\n",
        "    print(f'elapsed time: {end - start}')\n",
        "\n",
        "\n",
        "if __name__ == '__main__':\n",
        "    main()"
      ],
      "execution_count": null,
      "outputs": [
        {
          "name": "stdout",
          "output_type": "stream",
          "text": [
            "starting computations on 2 cores\n",
            "[98.60000000000001, 113.0, 86.0, 68.0, 50.0, 95.0]\n",
            "elapsed time: 6.006926015000317\n"
          ]
        }
      ]
    },
    {
      "cell_type": "code",
      "metadata": {
        "colab": {
          "base_uri": "https://localhost:8080/"
        },
        "id": "Ou_TkyUPX2i0",
        "outputId": "1738c527-c97d-4a7b-c306-e72c048af777"
      },
      "source": [
        "import time\n",
        "import os\n",
        "from timeit import default_timer as timer\n",
        "from multiprocessing import Pool, cpu_count\n",
        "\n",
        "# calculate fahrenheit\n",
        "def fahrenheit(celsius):\n",
        "    time.sleep(1)\n",
        "    return (celsius * 1.8) + 32\n",
        "\n",
        "\n",
        "def main():\n",
        "\n",
        "    start = timer()\n",
        "\n",
        "    print(f'starting computations on {cpu_count()} cores')\n",
        "\n",
        "    celsius = (37, 45, 30, 20, 10, 35)\n",
        "\n",
        "    with Pool() as pool:\n",
        "        res = pool.map(fahrenheit, celsius)\n",
        "        print(res)\n",
        "\n",
        "    end = timer()\n",
        "    print(f'elapsed time: {end - start}s')\n",
        "if __name__ == '__main__':\n",
        "    main()"
      ],
      "execution_count": null,
      "outputs": [
        {
          "name": "stdout",
          "output_type": "stream",
          "text": [
            "starting computations on 2 cores\n",
            "[98.60000000000001, 113.0, 86.0, 68.0, 50.0, 95.0]\n",
            "elapsed time: 3.129987426000298s\n"
          ]
        }
      ]
    },
    {
      "cell_type": "code",
      "metadata": {
        "colab": {
          "base_uri": "https://localhost:8080/"
        },
        "id": "wqSVmAeCX2I-",
        "outputId": "7d1b1e31-304c-4d0f-a638-c8eefadd64a8"
      },
      "source": [
        "import time\n",
        "import os\n",
        "from timeit import default_timer as timer\n",
        "from multiprocessing import Pool, cpu_count\n",
        "\n",
        "\n",
        "# calculate fahrenheit\n",
        "def fahrenheit(celsius):\n",
        "    time.sleep(1)\n",
        "    print(\"child process id:\", os.getpid())\n",
        "    return (celsius * 1.8) + 32\n",
        "\n",
        "def main():\n",
        "\n",
        "    start = timer()\n",
        "\n",
        "    print(f'starting computations on {cpu_count()} cores')\n",
        "    celsius = (37, 45, 30, 20, 10, 35, 25, 33, 29)\n",
        "    print(\"parent process id:\", os.getpid())\n",
        "    res = list(map(fahrenheit, celsius))\n",
        "    print(res)\n",
        "    end = timer()\n",
        "    print(f'elapsed time: {end - start}')\n",
        "\n",
        "\n",
        "if __name__ == '__main__':\n",
        "    main()"
      ],
      "execution_count": null,
      "outputs": [
        {
          "name": "stdout",
          "output_type": "stream",
          "text": [
            "starting computations on 2 cores\n",
            "[98.60000000000001, 113.0, 86.0, 68.0, 50.0, 95.0, 77.0, 91.4, 84.2]\n",
            "elapsed time: 9.01013837299979\n"
          ]
        }
      ]
    },
    {
      "cell_type": "code",
      "metadata": {
        "colab": {
          "base_uri": "https://localhost:8080/"
        },
        "id": "qd-rorsAX18D",
        "outputId": "4b5a2f5f-c901-4b21-e316-bdbb74cdf5b8"
      },
      "source": [
        "import time\n",
        "import os\n",
        "from timeit import default_timer as timer\n",
        "from multiprocessing import Pool, cpu_count\n",
        "\n",
        "# calculate fahrenheit\n",
        "def fahrenheit(celsius):\n",
        "    time.sleep(1)\n",
        "    print(\"child process id:\", os.getpid())\n",
        "    return (celsius * 1.8) + 32\n",
        "\n",
        "\n",
        "def main():\n",
        "\n",
        "    start = timer()\n",
        "\n",
        "    print(f'starting computations on {cpu_count()} cores')\n",
        "\n",
        "    celsius = (37, 45, 30, 20, 10, 35, 25, 33, 29)\n",
        "\n",
        "    print(\"parent process id:\", os.getpid())\n",
        "    with Pool() as pool:\n",
        "        res = pool.map(fahrenheit, celsius)\n",
        "        print(res)\n",
        "\n",
        "    end = timer()\n",
        "    print(f'elapsed time: {end - start}s')\n",
        "if __name__ == '__main__':\n",
        "    main()"
      ],
      "execution_count": null,
      "outputs": [
        {
          "name": "stdout",
          "output_type": "stream",
          "text": [
            "starting computations on 2 cores\n",
            "parent process id: 64\n",
            "child process id: 100\n",
            "child process id: 101\n",
            "child process id: 100\n",
            "child process id: 101\n",
            "child process id: 100\n",
            "child process id: 101\n",
            "child process id: 101\n",
            "child process id: 100\n",
            "child process id: 100\n",
            "[98.60000000000001, 113.0, 86.0, 68.0, 50.0, 95.0, 77.0, 91.4, 84.2]\n",
            "elapsed time: 5.143677126000014s\n"
          ]
        }
      ]
    },
    {
      "cell_type": "code",
      "metadata": {
        "colab": {
          "base_uri": "https://localhost:8080/",
          "height": 313
        },
        "id": "TV74mHfgV67I",
        "outputId": "d1c023d3-e7c4-4ddc-b9a3-64f2b5a1107d"
      },
      "source": [
        "import matplotlib.pyplot as plt\n",
        "import numpy as np\n",
        "plt.title(\"Sequential time Vs Parallel time\")\n",
        "plt.xlabel('Time in second')\n",
        "plt.ylabel('Data length')\n",
        "plt.plot([3.0035, 6.0069,  9.0101],[3, 6, 9],label='Sequential time')\n",
        "plt.plot([2.0273, 3.1299, 5.0356], [3, 6, 9],label='Parallel time')\n",
        "plt.legend()"
      ],
      "execution_count": null,
      "outputs": [
        {
          "data": {
            "text/plain": [
              "<matplotlib.legend.Legend at 0x7fbd02a3a3d0>"
            ]
          },
          "execution_count": 51,
          "metadata": {},
          "output_type": "execute_result"
        },
        {
          "data": {
            "image/png": "[encoded data removed]",
            "text/plain": [
              "<Figure size 432x288 with 1 Axes>"
            ]
          },
          "metadata": {},
          "output_type": "display_data"
        }
      ]
    },
    {
      "cell_type": "code",
      "metadata": {
        "colab": {
          "base_uri": "https://localhost:8080/",
          "height": 313
        },
        "id": "XQ2w07vyZlFB",
        "outputId": "3c597231-444d-4bfe-a2fc-54e2acb0a22a"
      },
      "source": [
        "import matplotlib.pyplot as plt\n",
        "import numpy as np\n",
        "plt.title(\"Sequential time Vs Parallel time\")\n",
        "plt.xlabel('Speed Up')\n",
        "plt.ylabel(\"Data Length\")\n",
        "plt.plot([3.0035/2.0273, 6.0069/3.1299, 9.0101/5.0356], [3, 6, 9], label='Speed up')\n",
        "plt.legend()"
      ],
      "execution_count": null,
      "outputs": [
        {
          "output_type": "execute_result",
          "data": {
            "text/plain": [
              "<matplotlib.legend.Legend at 0x7f77c24f5550>"
            ]
          },
          "metadata": {},
          "execution_count": 3
        },
        {
          "output_type": "display_data",
          "data": {
            "image/png": "[encoded data removed]",
            "text/plain": [
              "<Figure size 432x288 with 1 Axes>"
            ]
          },
          "metadata": {
            "needs_background": "light"
          }
        }
      ]
    },
    {
      "cell_type": "markdown",
      "metadata": {
        "id": "sHvkeMBWBIrB"
      },
      "source": [
        "####**Object13:** Write a program to find whether the square of a number is even or odd by using the process and pool class and also draw the all posible graphs"
      ]
    },
    {
      "cell_type": "code",
      "metadata": {
        "colab": {
          "base_uri": "https://localhost:8080/"
        },
        "id": "jcvdY0QXBLQc",
        "outputId": "3f7fd70e-b598-4e86-960c-d14a34aa2c57"
      },
      "source": [
        "import time\n",
        "from timeit import default_timer as timer\n",
        "from multiprocessing import Pool, cpu_count, Process\n",
        "import os\n",
        "import math\n",
        "\n",
        "def Square(x):\n",
        "  time.sleep(1)\n",
        "  sqr= x ** 2\n",
        "  print(\"Child process id:\", os.getpid())\n",
        "  if x % 2 == 0:\n",
        "    return 'even'\n",
        "  else:\n",
        "    return 'odd'\n",
        "\n",
        "def pool():\n",
        "  start = timer()\n",
        "  print(f'starting computations on {cpu_count()} cores')\n",
        "  squareList=[4,16,33]\n",
        "  print(\"Length of items in squareList: \",len(squareList))\n",
        "  print(\"Parent process id:\", os.getpid())\n",
        "  with Pool() as pool:\n",
        "    res=list(pool.map(Square,squareList))\n",
        "    print(res)\n",
        "  end = timer()\n",
        "  print(f'elapsed time: {end - start}')\n",
        "\n",
        "def process():\n",
        "    start = timer()\n",
        "    print(f'starting computations on {cpu_count()} cores')\n",
        "    squareList=[4,16,33]\n",
        "    print(\"Length of items in squareList: \",len(squareList))\n",
        "    print(\"Parent process id:\", os.getpid())\n",
        "    procs = []\n",
        "\n",
        "    # instantiating process with arguments\n",
        "    for num in squareList:\n",
        "        proc = Process(target=Square, args=(num,))\n",
        "        procs.append(proc)\n",
        "        proc.start()\n",
        "\n",
        "    # complete the processes\n",
        "    for proc in procs:\n",
        "        proc.join()\n",
        "    \n",
        "    end = timer()\n",
        "    print(f'elapsed time: {end - start}')\n",
        "\n",
        "print(\"Pool Class...\")\n",
        "pool()\n",
        "\n",
        "print(\"\\n---------------\")\n",
        "print(\"Process Class.....\")\n",
        "process()"
      ],
      "execution_count": null,
      "outputs": [
        {
          "name": "stdout",
          "output_type": "stream",
          "text": [
            "Pool Class...\n",
            "starting computations on 2 cores\n",
            "Length of items in squareList:  3\n",
            "Parent process id: 64\n",
            "Child process id: 762\n",
            "Child process id: 763\n",
            "Child process id: 762\n",
            "['even', 'even', 'odd']\n",
            "elapsed time: 2.1329168059996846\n",
            "\n",
            "---------------\n",
            "Process Class.....\n",
            "starting computations on 2 cores\n",
            "Length of items in squareList:  3\n",
            "Parent process id: 64\n",
            "Child process id: 773\n",
            "Child process id: 774\n",
            "Child process id: 775\n",
            "elapsed time: 1.0337118140000712\n"
          ]
        }
      ]
    },
    {
      "cell_type": "code",
      "metadata": {
        "colab": {
          "base_uri": "https://localhost:8080/",
          "height": 281
        },
        "id": "9mV7UOEm9rM5",
        "outputId": "5aaf455c-acf3-4b0b-8188-7adfd835195b"
      },
      "source": [
        "import matplotlib.pyplot as plt\n",
        "\n",
        "_ = plt.ylabel('Time taken in seconds')\n",
        "_ = plt.title('Pool vs Process')\n",
        "_ = plt.bar(['Pool', 'Process'], [2.1329, 1.0337])"
      ],
      "execution_count": null,
      "outputs": [
        {
          "output_type": "display_data",
          "data": {
            "image/png": "[encoded data removed]",
            "text/plain": [
              "<Figure size 432x288 with 1 Axes>"
            ]
          },
          "metadata": {
            "needs_background": "light"
          }
        }
      ]
    },
    {
      "cell_type": "markdown",
      "metadata": {
        "id": "7KBNS9d6ahgo"
      },
      "source": [
        "#### **Q1:** Write differences between pool and process class\n",
        "\n",
        "**Ans:** \n",
        "\n",
        "**Pool:**\n",
        "\n",
        "1) When you have junk of data, you can use Pool class.\n",
        "\n",
        "2) Only the process under executions are kept in the memory.\n",
        "\n",
        "3) I/O operation: It waits till the I/O operation is completed & does not schedule another process. This might increase the execution time.\n",
        "\n",
        "4) Uses FIFO scheduler.\n",
        "\n",
        "**Process:**\n",
        "\n",
        "1) When you have a small data or functions and less repetitive tasks to do.\n",
        "\n",
        "2) It puts all the process in the memory. Hence in the larger task, it might cause to loss of memory.\n",
        "\n",
        "3) I/O operation: The process class suspends the process executing I/O operations and schedule another process parallel.\n",
        "\n",
        "4) Uses FIFO scheduler.\n",
        "\n",
        "#### **Q2:** what are the join() and start() class\n",
        "\n",
        "**Ans:**  There are two important functions that belongs to the Process class – start() and join() function.\n",
        "\n",
        "At first, we need to write a function, that will be run by the process. Then, we need to instantiate a process object.\n",
        "\n",
        "If we create a process object, nothing will happen until we tell it to start processing via start() function. Then, the process will run and return its result. After that we tell the process to complete via join() function.\n",
        "\n",
        "Without join() function call, process will remain idle and won’t terminate."
      ]
    },
    {
      "cell_type": "code",
      "metadata": {
        "id": "RjWWlPYABHC2"
      },
      "source": [
        ""
      ],
      "execution_count": null,
      "outputs": []
    },
    {
      "cell_type": "markdown",
      "metadata": {
        "id": "M10XLMka-zcj"
      },
      "source": [
        "---\n",
        "---\n",
        "### Date: 06/10/2021"
      ]
    },
    {
      "cell_type": "markdown",
      "metadata": {
        "id": "5l0b5zo_CtQw"
      },
      "source": [
        "---\n",
        "####**Q1:** What are the modules used to implement the linear regression algorithm on multicore gpu in python?\n",
        "\n",
        "**Ans: scikit-learn(sklearn)** is a widely used Python library for machine learning, built on top of NumPy and some other packages. It provides the means for preprocessing data, reducing dimensionality, implementing regression, classification, clustering, and more. Like NumPy, scikit-learn is also open source.\n",
        "\n",
        "**statsmodels** is a powerful Python package for the estimation of statistical models, performing tests, and more. It functionality beyond the scope of scikit-learn. It’s open source as well.\n",
        "\n",
        "---\n",
        "####**Q2:** What are the differences between the classification and regression in machine learning?\n",
        "\n",
        "**Ans: Classification:**\n",
        "\n",
        "1) In Classification, the output variable must be a discrete value.\n",
        "\n",
        "2) The task of the classification algorithm is to map the input value(x) with the discrete output variable(y).\n",
        "\n",
        "3) The Classification algorithms can be divided into Binary Classifier and Multi-class Classifier.\n",
        "\n",
        "4) In Classification, we try to find the decision boundary, which can divide the dataset into different classes.\n",
        "\n",
        "5) Different Algorithms -- (i) Logistic Regression, (ii) K-Nearest Neighbours, (iii) Support Vector Machines, (iv) Kernel SVM, (v) Naïve Bayes, (vi) Decision Tree Classification, (vii) Random Forest Classification\n",
        "\n",
        "**Regression:**\n",
        "\n",
        "1) In Regression, the output variable must be of continuous nature or real value.\n",
        "\n",
        "2) The task of the regression algorithm is to map the input value (x) with the continuous output variable(y).\n",
        "\n",
        "3) The regression Algorithm can be further divided into Linear and Non-linear Regression.\n",
        "\n",
        "4) In Regression, we try to find the best fit line, which can predict the output more accurately.\n",
        "\n",
        "5) Different Algorithms -- (i) Simple Linear Regression, (ii) Multiple Linear Regression, (iii) Polynomial Regression, (iv) Support Vector Regression, (v) Decision Tree Regression, (vi) Random Forest Regression\n",
        "\n",
        "---\n",
        "####**Q3:** How to simulate the linear regression supervised machine learning algorithm on the multicore cpu or gpu?"
      ]
    },
    {
      "cell_type": "code",
      "metadata": {
        "colab": {
          "base_uri": "https://localhost:8080/"
        },
        "id": "mTMN-q_lVC-R",
        "outputId": "8a08f7d9-46e4-4f81-f9f2-b538df11ef5f"
      },
      "source": [
        "from pandas import DataFrame\n",
        "import statsmodels.api as sm\n",
        "\n",
        "Stock_Market = {'Year': [2017,2017,2017,2017,2017,2017,2017,2017,2017,2017,2017,2017,2016,2016,2016,2016,2016,2016,2016,2016,2016,2016,2016,2016],\n",
        "                'Month': [12, 11,10,9,8,7,6,5,4,3,2,1,12,11,10,9,8,7,6,5,4,3,2,1],\n",
        "                'Interest_Rate': [2.75,2.5,2.5,2.5,2.5,2.5,2.5,2.25,2.25,2.25,2,2,2,1.75,1.75,1.75,1.75,1.75,1.75,1.75,1.75,1.75,1.75,1.75],\n",
        "                'Unemployment_Rate': [5.3,5.3,5.3,5.3,5.4,5.6,5.5,5.5,5.5,5.6,5.7,5.9,6,5.9,5.8,6.1,6.2,6.1,6.1,6.1,5.9,6.2,6.2,6.1],\n",
        "                'Stock_Index_Price': [1464,1394,1357,1293,1256,1254,1234,1195,1159,1167,1130,1075,1047,965,943,958,971,949,884,866,876,822,704,719]        \n",
        "                }\n",
        "\n",
        "df = DataFrame(Stock_Market,columns=['Year','Month','Interest_Rate','Unemployment_Rate','Stock_Index_Price']) \n",
        "\n",
        "X = df[['Interest_Rate','Unemployment_Rate']]\n",
        "Y = df['Stock_Index_Price']\n",
        "\n",
        "X = sm.add_constant(X) # adding a constant\n",
        "\n",
        "model = sm.OLS(Y, X).fit()\n",
        "predictions = model.predict(X) \n",
        "\n",
        "print_model = model.summary()\n",
        "print(print_model)"
      ],
      "execution_count": null,
      "outputs": [
        {
          "output_type": "stream",
          "name": "stdout",
          "text": [
            "                            OLS Regression Results                            \n",
            "==============================================================================\n",
            "Dep. Variable:      Stock_Index_Price   R-squared:                       0.898\n",
            "Model:                            OLS   Adj. R-squared:                  0.888\n",
            "Method:                 Least Squares   F-statistic:                     92.07\n",
            "Date:                Wed, 13 Oct 2021   Prob (F-statistic):           4.04e-11\n",
            "Time:                        01:53:11   Log-Likelihood:                -134.61\n",
            "No. Observations:                  24   AIC:                             275.2\n",
            "Df Residuals:                      21   BIC:                             278.8\n",
            "Df Model:                           2                                         \n",
            "Covariance Type:            nonrobust                                         \n",
            "=====================================================================================\n",
            "                        coef    std err          t      P>|t|      [0.025      0.975]\n",
            "-------------------------------------------------------------------------------------\n",
            "const              1798.4040    899.248      2.000      0.059     -71.685    3668.493\n",
            "Interest_Rate       345.5401    111.367      3.103      0.005     113.940     577.140\n",
            "Unemployment_Rate  -250.1466    117.950     -2.121      0.046    -495.437      -4.856\n",
            "==============================================================================\n",
            "Omnibus:                        2.691   Durbin-Watson:                   0.530\n",
            "Prob(Omnibus):                  0.260   Jarque-Bera (JB):                1.551\n",
            "Skew:                          -0.612   Prob(JB):                        0.461\n",
            "Kurtosis:                       3.226   Cond. No.                         394.\n",
            "==============================================================================\n",
            "\n",
            "Warnings:\n",
            "[1] Standard Errors assume that the covariance matrix of the errors is correctly specified.\n"
          ]
        }
      ]
    },
    {
      "cell_type": "markdown",
      "metadata": {
        "id": "XQVO1wrvXc6R"
      },
      "source": [
        "##**Interpreting the Regression Results**\n",
        "\n",
        "**Adjusted R-squared** reflects the fit of the model. R-squared values range from 0 to 1, where a higher value generally indicates a better fit, assuming certain conditions are met.\n",
        "\n",
        "**const coefficient** is your Y-intercept. It means that if both the Interest_Rate and Unemployment_Rate coefficients are zero, then the expected output (i.e., the Y) would be equal to the const coefficient.\n",
        "\n",
        "**Interest_Rate** coefficient represents the change in the output Y due to a change of one unit in the interest rate (everything else held constant)\n",
        "\n",
        "**Unemployment_Rate** coefficient represents the change in the output Y due to a change of one unit in the unemployment rate (everything else held constant)\n",
        "std err reflects the level of accuracy of the coefficients. The lower it is, the higher is the level of accuracy\n",
        "\n",
        "**P >|t|** is your p-value. A p-value of less than 0.05 is considered to be statistically significant\n",
        "\n",
        "**Confidence Interval** represents the range in which our coefficients are likely to fall (with a likelihood of 95%)\n",
        "\n",
        "---\n",
        "####**Q4:** Simulate the logistics regression supervised machine learning algorithm on the multicore cpu or gpu?"
      ]
    },
    {
      "cell_type": "code",
      "metadata": {
        "colab": {
          "base_uri": "https://localhost:8080/",
          "height": 1000
        },
        "id": "omgmkisiYfma",
        "outputId": "6a8042d6-239e-4774-ef4c-2c1591d6b6e7"
      },
      "source": [
        "# Step 1: Import packages, functions, and classes\n",
        "import numpy as np\n",
        "import time\n",
        "from sklearn.linear_model import LogisticRegression\n",
        "from sklearn.metrics import classification_report, confusion_matrix\n",
        "import matplotlib.pyplot as plt\n",
        "\n",
        "print(\"USING SKLEARRN\")\n",
        "# Step 2: Get data\n",
        "x = np.arange(10).reshape(-1, 1)\n",
        "y = np.array([0, 1, 0, 0, 1, 1, 1, 1, 1, 1])\n",
        "\n",
        "timetaken = []\n",
        "# n_cores = mp.cpu_count()\n",
        "n_cores = np.array([1, 2, 3])\n",
        "\n",
        "# Step 3: Create a model and train it\n",
        "for n in n_cores:\n",
        "  start = time.time()\n",
        "  model = LogisticRegression(solver='lbfgs',  C=1.0, random_state=0, n_jobs=n).fit(x, y)\n",
        "  end = time.time()\n",
        "  elapsedtime = end - start\n",
        "  timetaken.append(elapsedtime)\n",
        "\n",
        "# Step 4: Evaluate the model\n",
        "p_pred = model.predict_proba(x)\n",
        "y_pred = model.predict(x)\n",
        "score_ = model.score(x, y)\n",
        "conf_m = confusion_matrix(y, y_pred)\n",
        "report = classification_report(y, y_pred)\n",
        "\n",
        "print('Time Taken:', timetaken)\n",
        "plt.xlabel('n_cores')\n",
        "plt.ylabel('time_taken')\n",
        "plt.plot(n_cores.astype('i'), timetaken)\n",
        "plt.show()\n",
        "print('\\n-----------')\n",
        "print('Probability Prediction:')\n",
        "print(p_pred)\n",
        "print('\\n-----------')\n",
        "print('Prediction:', y_pred)\n",
        "print('\\n-----------')\n",
        "print('Score:', score_)\n",
        "print('\\n-----------')\n",
        "print('Confusion Metrix:')\n",
        "print(conf_m)\n",
        "print('\\n-----------')\n",
        "print('Report:')\n",
        "print(report)\n",
        "\n",
        "\n",
        "print(\"\\n\\nUSING STATSMODEL\\n\")\n",
        "import numpy as np\n",
        "import statsmodels.api as sm\n",
        "\n",
        "x = np.arange(10).reshape(-1, 1)\n",
        "y = np.array([0, 1, 0, 0, 1, 1, 1, 1, 1, 1])\n",
        "x = sm.add_constant(x)\n",
        "\n",
        "model = sm.Logit(y, x)\n",
        "result = model.fit(method='newton')\n",
        "pred = result.predict(x)\n",
        "(result.predict(x) >= 0.5).astype(int)\n",
        "conf_m_ = result.pred_table()\n",
        "summary_ = result.summary()\n",
        "\n",
        "print('Prediction:', pred)\n",
        "print('\\n-----------')\n",
        "print('Confusion Metrix:')\n",
        "print(conf_m_)\n",
        "print('\\n-----------')\n",
        "print('Summary:')\n",
        "print(summary_)"
      ],
      "execution_count": null,
      "outputs": [
        {
          "output_type": "stream",
          "name": "stdout",
          "text": [
            "USING SKLEARRN\n",
            "Time Taken: [0.004339694976806641, 0.09823298454284668, 0.41942334175109863]\n"
          ]
        },
        {
          "output_type": "display_data",
          "data": {
            "image/png": "[encoded data removed]",
            "text/plain": [
              "<Figure size 432x288 with 1 Axes>"
            ]
          },
          "metadata": {
            "needs_background": "light"
          }
        },
        {
          "output_type": "stream",
          "name": "stdout",
          "text": [
            "\n",
            "-----------\n",
            "Probability Prediction:\n",
            "[[0.82342602 0.17657398]\n",
            " [0.70490444 0.29509556]\n",
            " [0.55027758 0.44972242]\n",
            " [0.38528429 0.61471571]\n",
            " [0.24302808 0.75697192]\n",
            " [0.14122896 0.85877104]\n",
            " [0.0776946  0.9223054 ]\n",
            " [0.04136555 0.95863445]\n",
            " [0.02162523 0.97837477]\n",
            " [0.0111953  0.9888047 ]]\n",
            "\n",
            "-----------\n",
            "Prediction: [0 0 0 1 1 1 1 1 1 1]\n",
            "\n",
            "-----------\n",
            "Score: 0.8\n",
            "\n",
            "-----------\n",
            "Confusion Metrix:\n",
            "[[2 1]\n",
            " [1 6]]\n",
            "\n",
            "-----------\n",
            "Report:\n",
            "              precision    recall  f1-score   support\n",
            "\n",
            "           0       0.67      0.67      0.67         3\n",
            "           1       0.86      0.86      0.86         7\n",
            "\n",
            "    accuracy                           0.80        10\n",
            "   macro avg       0.76      0.76      0.76        10\n",
            "weighted avg       0.80      0.80      0.80        10\n",
            "\n",
            "\n",
            "\n",
            "USING STATSMODEL\n",
            "\n",
            "Optimization terminated successfully.\n",
            "         Current function value: 0.350471\n",
            "         Iterations 7\n",
            "Prediction: [0.12208792 0.24041529 0.41872657 0.62114189 0.78864861 0.89465521\n",
            " 0.95080891 0.97777369 0.99011108 0.99563083]\n",
            "\n",
            "-----------\n",
            "Confusion Metrix:\n",
            "[[2. 1.]\n",
            " [1. 6.]]\n",
            "\n",
            "-----------\n",
            "Summary:\n",
            "                           Logit Regression Results                           \n",
            "==============================================================================\n",
            "Dep. Variable:                      y   No. Observations:                   10\n",
            "Model:                          Logit   Df Residuals:                        8\n",
            "Method:                           MLE   Df Model:                            1\n",
            "Date:                Wed, 13 Oct 2021   Pseudo R-squ.:                  0.4263\n",
            "Time:                        03:17:40   Log-Likelihood:                -3.5047\n",
            "converged:                       True   LL-Null:                       -6.1086\n",
            "Covariance Type:            nonrobust   LLR p-value:                   0.02248\n",
            "==============================================================================\n",
            "                 coef    std err          z      P>|z|      [0.025      0.975]\n",
            "------------------------------------------------------------------------------\n",
            "const         -1.9728      1.737     -1.136      0.256      -5.377       1.431\n",
            "x1             0.8224      0.528      1.557      0.119      -0.213       1.858\n",
            "==============================================================================\n"
          ]
        }
      ]
    },
    {
      "cell_type": "markdown",
      "metadata": {
        "id": "0chyRBgdsBeS"
      },
      "source": [
        "####**Object:** Print the Ids of Child and Parent"
      ]
    },
    {
      "cell_type": "code",
      "metadata": {
        "colab": {
          "base_uri": "https://localhost:8080/"
        },
        "id": "pYfLGhuUFYN2",
        "outputId": "ce0583e6-d629-4d85-8a0c-51e8b5c9a231"
      },
      "source": [
        "from multiprocessing import Process\n",
        "import os\n",
        "\n",
        "def fun():\n",
        "\n",
        "    print('--------------------------')\n",
        "\n",
        "    print('calling fun')\n",
        "    print('parent process id:', os.getppid())\n",
        "    print('process id:', os.getpid())\n",
        "\n",
        "def main():\n",
        "\n",
        "    print('main fun')\n",
        "    print('process id:', os.getpid())\n",
        "\n",
        "    p1 = Process(target=fun)\n",
        "    p1.start()\n",
        "    p1.join()\n",
        "\n",
        "    p2 = Process(target=fun)\n",
        "    p2.start()\n",
        "    p2.join()\n",
        "\n",
        "\n",
        "if __name__ == '__main__':\n",
        "    main()"
      ],
      "execution_count": null,
      "outputs": [
        {
          "name": "stdout",
          "output_type": "stream",
          "text": [
            "main fun\n",
            "process id: 64\n",
            "--------------------------\n",
            "calling fun\n",
            "parent process id: 64\n",
            "process id: 259\n",
            "--------------------------\n",
            "calling fun\n",
            "parent process id: 64\n",
            "process id: 268\n"
          ]
        }
      ]
    },
    {
      "cell_type": "markdown",
      "metadata": {
        "id": "MNbz8fehPd5p"
      },
      "source": [
        "####**Object:** Write a program to square and cube of a list using Process class of multiprocessing module"
      ]
    },
    {
      "cell_type": "code",
      "metadata": {
        "colab": {
          "base_uri": "https://localhost:8080/",
          "height": 366
        },
        "id": "viuQoeMlbdbM",
        "outputId": "01c306db-832c-41c4-dd88-9232ad413d3a"
      },
      "source": [
        "import multiprocessing as mp \n",
        "import os \n",
        "import time\n",
        "from timeit import default_timer as timer\n",
        "import matplotlib.pyplot as plt\n",
        "\n",
        "def square(n): \n",
        "    #print(\"Worker process id for {0}: {1}\".format(n, os.getpid())) \n",
        "    print(n*n)\n",
        "    \n",
        "def cube(n):\n",
        "  print(n*n*n) \n",
        "  \n",
        "if __name__ == \"__main__\":  \n",
        "    start=timer()\n",
        "    #creating a process class\n",
        "    p1=mp.Process(target=square,args=(6,))\n",
        "    p2=mp.Process(target=cube,args=(4,))\n",
        "    p1.start()\n",
        "    p1.join()\n",
        "    end1=timer()-start\n",
        "    print(\"time taken by square  \" ,end1)\n",
        "    p2.start()\n",
        "    p2.join()\n",
        "    end2=timer()-start\n",
        "    print(\"time taken by cube  \" ,end2)\n",
        "    fig = plt.figure()\n",
        "    t = ['square', 'cube']\n",
        "    exe_time = [end1,end2]\n",
        "    plt.bar(t,exe_time, color ='green') \n",
        "    plt.xlabel(\"different functins\") \n",
        "    plt.ylabel(\"time taken\") \n",
        "    plt.title(\"time taken by square and cube function by process\")\n",
        "    plt.show()"
      ],
      "execution_count": null,
      "outputs": [
        {
          "output_type": "stream",
          "name": "stdout",
          "text": [
            "36\n",
            "time taken by square   0.02046071600000232\n",
            "64\n",
            "time taken by cube   0.04334698499997103\n"
          ]
        },
        {
          "output_type": "display_data",
          "data": {
            "image/png": "[encoded data removed]",
            "text/plain": [
              "<Figure size 432x288 with 1 Axes>"
            ]
          },
          "metadata": {
            "needs_background": "light"
          }
        }
      ]
    },
    {
      "cell_type": "code",
      "metadata": {
        "colab": {
          "base_uri": "https://localhost:8080/",
          "height": 508
        },
        "id": "lu3CRFSOFY-R",
        "outputId": "53990f97-4a35-4939-c226-0dda68c5834a"
      },
      "source": [
        "import multiprocessing as mp \n",
        "import os \n",
        "import time\n",
        "from timeit import default_timer as timer\n",
        "import matplotlib.pyplot as plt\n",
        "\n",
        "def square(n): \n",
        "    #print(\"Worker process id for {0}: {1}\".format(n, os.getpid())) \n",
        "    print(n*n)\n",
        "\n",
        "def cube(n):\n",
        "  print(n*n*n) \n",
        "  \n",
        "if __name__ == \"__main__\":  \n",
        "    start=timer()\n",
        "    #creating a process class\n",
        "    lst = [6,4,5,6,7]\n",
        "    p1 = []\n",
        "\n",
        "    # instantiating process with arguments\n",
        "    for num in lst:\n",
        "        proc = mp.Process(target=square, args=(num,))\n",
        "        p1.append(proc)\n",
        "        proc.start()\n",
        "\n",
        "    # complete the processes\n",
        "    for proc in p1:\n",
        "        proc.join()\n",
        "   \n",
        "    end1=timer()-start\n",
        "    print(\"time taken by square  \" ,end1)\n",
        "\n",
        "    p2 = []\n",
        "    # instantiating process with arguments\n",
        "    for num in lst:\n",
        "        proc = mp.Process(target=cube, args=(num,))\n",
        "        p2.append(proc)\n",
        "        proc.start()\n",
        "\n",
        "    # complete the processes\n",
        "    for proc in p2:\n",
        "        proc.join()\n",
        "    end2=timer()-start\n",
        "    print(\"time taken by cube  \" ,end2)\n",
        "\n",
        "    fig = plt.figure()\n",
        "    t = ['square', 'cube']\n",
        "    exe_time = [end1,end2]\n",
        "    plt.bar(t,exe_time, color ='green') \n",
        "    plt.xlabel(\"different functins\") \n",
        "    plt.ylabel(\"time taken\") \n",
        "    plt.title(\"time taken by square and cube function by process\")\n",
        "    plt.show()"
      ],
      "execution_count": null,
      "outputs": [
        {
          "output_type": "stream",
          "name": "stdout",
          "text": [
            "36\n",
            "16\n",
            "25\n",
            "36\n",
            "49\n",
            "time taken by square   0.0738327430000254\n",
            "216\n",
            "64\n",
            "125\n",
            "343\n",
            "216\n",
            "time taken by cube   0.14877092699998684\n"
          ]
        },
        {
          "output_type": "display_data",
          "data": {
            "image/png": "[encoded data removed]",
            "text/plain": [
              "<Figure size 432x288 with 1 Axes>"
            ]
          },
          "metadata": {
            "needs_background": "light"
          }
        }
      ]
    },
    {
      "cell_type": "markdown",
      "metadata": {
        "id": "Uu4O18UOTYVT"
      },
      "source": [
        "Write a program to square and cube of a list using Pool class of multiprocessing module"
      ]
    },
    {
      "cell_type": "code",
      "metadata": {
        "colab": {
          "base_uri": "https://localhost:8080/",
          "height": 366
        },
        "id": "h_m3X87ARAVj",
        "outputId": "7184e823-d84b-409b-aa12-a23bb0b8b5a7"
      },
      "source": [
        "import multiprocessing as mp \n",
        "import os \n",
        "import time\n",
        "from timeit import default_timer as timer\n",
        "import matplotlib.pyplot as plt\n",
        "\n",
        "def square(n): \n",
        "    #print(\"Worker process id for {0}: {1}\".format(n, os.getpid())) \n",
        "    print(n*n)\n",
        "\n",
        "def cube(n):\n",
        "  print(n*n*n) \n",
        "  \n",
        "if __name__ == \"__main__\":  \n",
        "    start=timer()\n",
        "    #creating a pool class\n",
        "    p1 = mp.Pool().map(square, (6,))\n",
        "    end1=timer()-start\n",
        "    print(\"time taken by square  \" ,end1)\n",
        "\n",
        "    start=timer()\n",
        "    p2 = mp.Pool().map(cube, (6,))\n",
        "    end2=timer()-start\n",
        "    print(\"time taken by cube  \" ,end2)\n",
        "\n",
        "    fig = plt.figure()\n",
        "    t = ['square', 'cube']\n",
        "    exe_time = [end1,end2]\n",
        "    plt.bar(t,exe_time, color ='green') \n",
        "    plt.xlabel(\"different functins\") \n",
        "    plt.ylabel(\"time taken\") \n",
        "    plt.title(\"time taken by square and cube function by pool\")\n",
        "    plt.show()"
      ],
      "execution_count": null,
      "outputs": [
        {
          "output_type": "stream",
          "name": "stdout",
          "text": [
            "36\n",
            "time taken by square   0.027046160000054442\n",
            "216\n",
            "time taken by cube   0.04054681500008428\n"
          ]
        },
        {
          "output_type": "display_data",
          "data": {
            "image/png": "[encoded data removed]",
            "text/plain": [
              "<Figure size 432x288 with 1 Axes>"
            ]
          },
          "metadata": {
            "needs_background": "light"
          }
        }
      ]
    },
    {
      "cell_type": "code",
      "metadata": {
        "colab": {
          "base_uri": "https://localhost:8080/",
          "height": 348
        },
        "id": "MWOQH60TRqQP",
        "outputId": "f9749e48-e4e7-41b0-b649-d2690e0bdc10"
      },
      "source": [
        "import time\n",
        "from timeit import default_timer as timer\n",
        "from multiprocessing import Pool, cpu_count\n",
        "\n",
        "def square(n):\n",
        "    return n * n\n",
        "\n",
        "def cube(n):\n",
        "    return n * n * n\n",
        "\n",
        "def main():\n",
        "\n",
        "    print(f'starting computations on {cpu_count()} cores')\n",
        "\n",
        "    values = [6,4,5,6,7]\n",
        "\n",
        "    start=timer()\n",
        "    #creating a pool class\n",
        "    p1 = mp.Pool().map(square, values)\n",
        "    end1=timer()-start\n",
        "    print(\"time taken by square  \" ,end1)\n",
        "\n",
        "    start=timer()\n",
        "    p2 = mp.Pool().map(cube, values)\n",
        "    end2=timer()-start\n",
        "    print(\"time taken by cube  \" ,end2)\n",
        "    \n",
        "    fig = plt.figure()\n",
        "    t = ['square', 'cube']\n",
        "    exe_time = [end1,end2]\n",
        "    plt.bar(t,exe_time, color ='green') \n",
        "    plt.xlabel(\"different functins\") \n",
        "    plt.ylabel(\"time taken\") \n",
        "    plt.title(\"time taken by square and cube function by pool\")\n",
        "    plt.show()\n",
        "\n",
        "if __name__ == '__main__':\n",
        "    main()"
      ],
      "execution_count": null,
      "outputs": [
        {
          "output_type": "stream",
          "name": "stdout",
          "text": [
            "starting computations on 2 cores\n",
            "time taken by square   0.027339508999943973\n",
            "time taken by cube   0.03798544500000389\n"
          ]
        },
        {
          "output_type": "display_data",
          "data": {
            "image/png": "[encoded data removed]",
            "text/plain": [
              "<Figure size 432x288 with 1 Axes>"
            ]
          },
          "metadata": {
            "needs_background": "light"
          }
        }
      ]
    },
    {
      "cell_type": "markdown",
      "metadata": {
        "id": "RL6n82ImWtGy"
      },
      "source": [
        "Draw the line graph "
      ]
    },
    {
      "cell_type": "code",
      "metadata": {
        "colab": {
          "base_uri": "https://localhost:8080/",
          "height": 312
        },
        "id": "fSI_uHLKWgJb",
        "outputId": "b6f22b02-26a6-42e1-c18d-388cdbd0cbb1"
      },
      "source": [
        "import matplotlib.pyplot as plt\n",
        "import numpy as np\n",
        "\n",
        "plt.title(\"Process Class Time Vs Pool Class Time of square\")\n",
        "plt.xlabel('Time in second')\n",
        "plt.ylabel('Data length')\n",
        "plt.plot([0.0204, 0.0738], [1, 5], label='Process Class Time')\n",
        "plt.plot([0.0270, 0.0273], [1, 5], label='Pool Class Time')\n",
        "plt.legend()"
      ],
      "execution_count": null,
      "outputs": [
        {
          "output_type": "execute_result",
          "data": {
            "text/plain": [
              "<matplotlib.legend.Legend at 0x7f7aa4d5fa10>"
            ]
          },
          "metadata": {},
          "execution_count": 3
        },
        {
          "output_type": "display_data",
          "data": {
            "image/png": "[encoded data removed]",
            "text/plain": [
              "<Figure size 432x288 with 1 Axes>"
            ]
          },
          "metadata": {
            "needs_background": "light"
          }
        }
      ]
    },
    {
      "cell_type": "code",
      "metadata": {
        "colab": {
          "base_uri": "https://localhost:8080/",
          "height": 312
        },
        "id": "2s7JKtxkcM9x",
        "outputId": "237ada16-121e-4029-fb47-13e65a528538"
      },
      "source": [
        "import matplotlib.pyplot as plt\n",
        "import numpy as np\n",
        "\n",
        "plt.title(\"Process Class Time Vs Pool Class Time of Cube\")\n",
        "plt.xlabel('Time in second')\n",
        "plt.ylabel('Data length')\n",
        "plt.plot([0.0433, 0.1487], [1, 5], label='Process Class Time')\n",
        "plt.plot([0.0405, 0.0379], [1, 5], label='Pool Class Time')\n",
        "plt.legend()"
      ],
      "execution_count": null,
      "outputs": [
        {
          "output_type": "execute_result",
          "data": {
            "text/plain": [
              "<matplotlib.legend.Legend at 0x7f7aa4ce9d10>"
            ]
          },
          "metadata": {},
          "execution_count": 4
        },
        {
          "output_type": "display_data",
          "data": {
            "image/png": "[encoded data removed]",
            "text/plain": [
              "<Figure size 432x288 with 1 Axes>"
            ]
          },
          "metadata": {
            "needs_background": "light"
          }
        }
      ]
    },
    {
      "cell_type": "markdown",
      "metadata": {
        "id": "ZpJJuqeAcB-c"
      },
      "source": [
        "####**Object:** Whether a number is odd or even using process class, pool class, multithreading class and sequencial manner and also simulate the time."
      ]
    },
    {
      "cell_type": "markdown",
      "metadata": {
        "id": "ULkDJZUVfrjd"
      },
      "source": [
        "**Sequential:**"
      ]
    },
    {
      "cell_type": "code",
      "metadata": {
        "colab": {
          "base_uri": "https://localhost:8080/"
        },
        "id": "ndwbFm8obx4j",
        "outputId": "74f74042-8fab-4e99-a670-d36be60a31c3"
      },
      "source": [
        "import multiprocessing as mp \n",
        "import os \n",
        "import time\n",
        "from timeit import default_timer as timer\n",
        "\n",
        "def res(n):\n",
        "  time.sleep(0.05)\n",
        "  m=n*n\n",
        "  if(m%2==0):\n",
        "    print(\"{} squared result is even\".format(n))\n",
        "  else:\n",
        "    print(\"{} squared result is odd\".format(n))\n",
        "\n",
        "if __name__ == \"__main__\": \n",
        "  mylist = [[5, 8, 11], [1, 4, 9, 15, 22, 30], [1, 4, 9, 15, 22, 30, 5, 8, 11]]\n",
        "  \n",
        "  #sequentially\n",
        "  print('sequentially')\n",
        "  seq_time = []\n",
        "  start=timer()\n",
        "\n",
        "  for lst in mylist:\n",
        "      time.sleep(0.05)\n",
        "      for i in lst:\n",
        "        p=i*i\n",
        "        if(p%2==0):\n",
        "          print(\"even\")\n",
        "        else:\n",
        "          print(\"odd\")\n",
        "      end1=timer() - start\n",
        "      seq_time.append(end1)\n",
        "  print('sequential time : ',seq_time)\n",
        "  print('\\n')"
      ],
      "execution_count": null,
      "outputs": [
        {
          "output_type": "stream",
          "name": "stdout",
          "text": [
            "sequentially\n",
            "odd\n",
            "even\n",
            "odd\n",
            "odd\n",
            "even\n",
            "odd\n",
            "odd\n",
            "even\n",
            "even\n",
            "odd\n",
            "even\n",
            "odd\n",
            "odd\n",
            "even\n",
            "even\n",
            "odd\n",
            "even\n",
            "odd\n",
            "sequential time :  [0.05091844699927606, 0.10135462700054632, 0.15186448100030248]\n",
            "\n",
            "\n"
          ]
        }
      ]
    },
    {
      "cell_type": "markdown",
      "metadata": {
        "id": "b-y59ccJf1iq"
      },
      "source": [
        "**Process:**"
      ]
    },
    {
      "cell_type": "code",
      "metadata": {
        "colab": {
          "base_uri": "https://localhost:8080/"
        },
        "id": "ewh-x6xDfFSL",
        "outputId": "322e8ada-e4e4-45c6-d988-49337118fb6a"
      },
      "source": [
        "import multiprocessing as mp \n",
        "import os \n",
        "import time\n",
        "from timeit import default_timer as timer\n",
        "\n",
        "print(\"USING PROCESS \")\n",
        "process_time = []\n",
        "start=timer()\n",
        "  #USING PROCESS CLASS\n",
        "for lst in mylist:\n",
        "    p2 = []\n",
        "    # instantiating process with arguments\n",
        "    for num in lst:\n",
        "        proc = mp.Process(target=res, args=(num,))\n",
        "        p2.append(proc)\n",
        "        proc.start()\n",
        "\n",
        "    # complete the processes\n",
        "    for proc in p2:\n",
        "        proc.join()\n",
        "    end2=timer()-start\n",
        "    process_time.append(end2)\n",
        "print(\"execution time in process class\", process_time)\n",
        "print(\"\\n\")"
      ],
      "execution_count": null,
      "outputs": [
        {
          "output_type": "stream",
          "name": "stdout",
          "text": [
            "USING PROCESS \n",
            "5 squared result is odd\n",
            "8 squared result is even\n",
            "11 squared result is odd\n",
            "1 squared result is odd\n",
            "4 squared result is even\n",
            "9 squared result is odd\n",
            "15 squared result is odd\n",
            "22 squared result is even\n",
            "30 squared result is even\n",
            "1 squared result is odd\n",
            "4 squared result is even\n",
            "9 squared result is odd\n",
            "22 squared result is even\n",
            "15 squared result is odd\n",
            "30 squared result is even\n",
            "5 squared result is odd\n",
            "8 squared result is even\n",
            "11 squared result is odd\n",
            "execution time in process class [0.1033031970000593, 0.2245213189999049, 0.41589740899871686]\n",
            "\n",
            "\n"
          ]
        }
      ]
    },
    {
      "cell_type": "markdown",
      "metadata": {
        "id": "rEP7kcjXf-5N"
      },
      "source": [
        "**Pool:**"
      ]
    },
    {
      "cell_type": "code",
      "metadata": {
        "colab": {
          "base_uri": "https://localhost:8080/"
        },
        "id": "lLVR0SJ-fKDA",
        "outputId": "5b0b12e7-ff16-4312-82f0-51bf77080861"
      },
      "source": [
        "import multiprocessing as mp \n",
        "import os \n",
        "import time\n",
        "from timeit import default_timer as timer\n",
        "\n",
        "print(\"USING POOL \")\n",
        "pool_time = []\n",
        "for lst in mylist:\n",
        "    start=timer()\n",
        "    #USING POOL CLASS\n",
        "    p1=mp.Pool().map(res, lst) \n",
        "    end3= timer() - start\n",
        "    pool_time.append(end3)\n",
        "print(\"execution time in pool class\", pool_time)\n",
        "print(\"\\n\")"
      ],
      "execution_count": null,
      "outputs": [
        {
          "output_type": "stream",
          "name": "stdout",
          "text": [
            "USING POOL \n",
            "8 squared result is even\n",
            "5 squared result is odd\n",
            "11 squared result is odd\n",
            "1 squared result is odd\n",
            "4 squared result is even\n",
            "9 squared result is odd\n",
            "15 squared result is odd\n",
            "22 squared result is even\n",
            "30 squared result is even\n",
            "1 squared result is odd\n",
            "9 squared result is odd\n",
            "4 squared result is even\n",
            "15 squared result is odd\n",
            "22 squared result is even\n",
            "5 squared result is odd\n",
            "30 squared result is even\n",
            "8 squared result is even\n",
            "11 squared result is odd\n",
            "execution time in pool class [0.140294527000151, 0.1883642789998703, 0.29421497299881594]\n",
            "\n",
            "\n"
          ]
        }
      ]
    },
    {
      "cell_type": "markdown",
      "metadata": {
        "id": "2UGrDqkQgBIb"
      },
      "source": [
        "**Multithreading:**"
      ]
    },
    {
      "cell_type": "code",
      "metadata": {
        "colab": {
          "base_uri": "https://localhost:8080/"
        },
        "id": "-aHwjYMHgECR",
        "outputId": "663b2696-8ead-48c5-906c-3bdc8b88f66b"
      },
      "source": [
        "import multiprocessing as mp \n",
        "import os \n",
        "import time\n",
        "from timeit import default_timer as timer\n",
        "import threading\n",
        "\n",
        "thread_time = []\n",
        "print(\"USING MULTITHREADING \")\n",
        "for lst in mylist:\n",
        "    thread = []\n",
        "    start=timer()\n",
        "    # instantiating process with arguments\n",
        "    for num in lst:\n",
        "        proc = threading.Thread(target=res, args=(num,))\n",
        "        thread.append(proc)\n",
        "        proc.start()\n",
        "\n",
        "    # complete the processes\n",
        "    for proc in thread:\n",
        "        proc.join()\n",
        "    end4=timer()-start\n",
        "    thread_time.append(end4)\n",
        "print(\"execution time : \", thread_time)"
      ],
      "execution_count": null,
      "outputs": [
        {
          "output_type": "stream",
          "name": "stdout",
          "text": [
            "USING MULTITHREADING \n",
            "5 squared result is odd\n",
            "11 squared result is odd8 squared result is even\n",
            "\n",
            "1 squared result is odd\n",
            "9 squared result is odd\n",
            "15 squared result is odd\n",
            "30 squared result is even4 squared result is even\n",
            "22 squared result is even\n",
            "\n",
            "1 squared result is odd4 squared result is even\n",
            "9 squared result is odd15 squared result is odd\n",
            "22 squared result is even\n",
            "5 squared result is odd\n",
            "11 squared result is odd\n",
            "\n",
            "8 squared result is even\n",
            "30 squared result is even\n",
            "\n",
            "execution time :  [0.053371650999906706, 0.05398761599826685, 0.05676543200024753]\n"
          ]
        }
      ]
    },
    {
      "cell_type": "code",
      "metadata": {
        "colab": {
          "base_uri": "https://localhost:8080/",
          "height": 279
        },
        "id": "l9HbzHGcVkSY",
        "outputId": "8ef28f6f-f450-40b7-dfe5-934af0e83434"
      },
      "source": [
        "import matplotlib.pyplot as plt\n",
        "import numpy as np\n",
        "\n",
        "plt.xlabel('Time Taken in seconds')\n",
        "plt.ylabel('Data Length')\n",
        "plt.plot(seq_time, [3, 6, 9], label=\"Sequential Time\")\n",
        "plt.plot(pool_time, [3, 6, 9], label='Pool Time')\n",
        "plt.plot(thread_time, [3, 6, 9], label='Multithreading Time')\n",
        "plt.plot(process_time, [3, 6, 9], label='Process Time')\n",
        "plt.legend()\n",
        "plt.show()"
      ],
      "execution_count": null,
      "outputs": [
        {
          "output_type": "display_data",
          "data": {
            "image/png": "[encoded data removed]",
            "text/plain": [
              "<Figure size 432x288 with 1 Axes>"
            ]
          },
          "metadata": {
            "needs_background": "light"
          }
        }
      ]
    },
    {
      "cell_type": "code",
      "metadata": {
        "colab": {
          "base_uri": "https://localhost:8080/",
          "height": 295
        },
        "id": "K9vqdF7DdEVq",
        "outputId": "a1dc91f2-5bb0-4df0-dc2b-081783416a48"
      },
      "source": [
        "import matplotlib.pyplot as plt\n",
        "import numpy as np\n",
        "\n",
        "plt.title(\"Speed Up Graph between Sequential, Pool, Process and MultiThreading\")\n",
        "plt.xlabel(\"Speed Up\")\n",
        "plt.plot([seq_time[0]/pool_time[0], seq_time[1]/pool_time[1], seq_time[2]/pool_time[2]], [3, 6, 9], label='Seq vs Pool')\n",
        "plt.plot([seq_time[0]/process_time[0], seq_time[1]/process_time[1], seq_time[2]/process_time[2]], [3, 6, 9], label='Seq vs Process')\n",
        "plt.plot([seq_time[0]/thread_time[0], seq_time[1]/thread_time[1], seq_time[2]/thread_time[2]], [3, 6, 9], label='Seq vs Multithreading')\n",
        "plt.legend()\n",
        "plt.show()"
      ],
      "execution_count": null,
      "outputs": [
        {
          "output_type": "display_data",
          "data": {
            "image/png": "[encoded data removed]",
            "text/plain": [
              "<Figure size 432x288 with 1 Axes>"
            ]
          },
          "metadata": {
            "needs_background": "light"
          }
        }
      ]
    },
    {
      "cell_type": "markdown",
      "metadata": {
        "id": "HP_Z4aOh_ypV"
      },
      "source": [
        "### Date: 13/10/2021"
      ]
    },
    {
      "cell_type": "code",
      "metadata": {
        "colab": {
          "base_uri": "https://localhost:8080/"
        },
        "id": "avAjEMLwfvkd",
        "outputId": "3c8837d4-c98f-4134-89a4-e6362efa7514"
      },
      "source": [
        "import multiprocessing as mp \n",
        "import os \n",
        "import time\n",
        "from timeit import default_timer as timer\n",
        "import threading\n",
        "\n",
        "print(\"USING MULTITHREADING \")\n",
        "\n",
        "def res(n):\n",
        "  #time.sleep(0.05)\n",
        "  m=n*n\n",
        "  if(m%2==0):\n",
        "    print(\"{} squared result is even \".format(n))\n",
        "  else:\n",
        "    print(\"{} squared result is odd \".format(n))\n",
        "start=timer()\n",
        "p1=threading.Thread(target=res,args=(4,)) #p1 gives an id ,not execute the function\n",
        "p2=threading.Thread(target=res,args=(5,))\n",
        "p1.start()\n",
        "p2.start()\n",
        "p1.join()\n",
        "p2.join()\n",
        "end4=timer() - start\n",
        "print(\"execution time : \", end4)"
      ],
      "execution_count": null,
      "outputs": [
        {
          "output_type": "stream",
          "name": "stdout",
          "text": [
            "USING MULTITHREADING \n",
            "4 squared result is even \n",
            "5 squared result is odd \n",
            "execution time :  0.008377916999961599\n"
          ]
        }
      ]
    },
    {
      "cell_type": "code",
      "metadata": {
        "colab": {
          "base_uri": "https://localhost:8080/",
          "height": 521
        },
        "id": "biBMhdn_hp_x",
        "outputId": "fb123aae-1226-42b3-a5ab-379deed0fe50"
      },
      "source": [
        "import multiprocessing as mp \n",
        "import os \n",
        "import time\n",
        "from timeit import default_timer as timer\n",
        "import threading\n",
        "\n",
        "print(\"USING MULTITHREADING \")\n",
        "mylist = [[4, 5], [1, 4, 9, 15], [1, 4, 9, 15, 22, 30]]\n",
        "\n",
        "def res(n):\n",
        "  time.sleep(0.05)\n",
        "  m=n*n\n",
        "  if(m%2==0):\n",
        "    print(\"{} squared result is even \".format(n))\n",
        "  else:\n",
        "    print(\"{} squared result is odd \".format(n))\n",
        "\n",
        "threads_time = []\n",
        "for lst in mylist:\n",
        "    thread = []\n",
        "    start=timer()\n",
        "    # instantiating process with arguments\n",
        "    for num in lst:\n",
        "        proc = threading.Thread(target=res, args=(num,))\n",
        "        thread.append(proc)\n",
        "        proc.start()\n",
        "\n",
        "    # complete the processes\n",
        "    for proc in thread:\n",
        "        proc.join()\n",
        "    end4=timer()-start\n",
        "    threads_time.append(end4)\n",
        "print(\"execution time : \", threads_time)\n",
        "\n",
        "import matplotlib.pyplot as plt\n",
        "import numpy as np\n",
        "\n",
        "plt.xlabel('Time Taken in seconds')\n",
        "plt.ylabel('Data Length')\n",
        "plt.plot(threads_time, [2, 4, 6], label='Multithreading Time')\n",
        "plt.legend()\n",
        "plt.show()"
      ],
      "execution_count": null,
      "outputs": [
        {
          "output_type": "stream",
          "name": "stdout",
          "text": [
            "USING MULTITHREADING \n",
            "4 squared result is even \n",
            "5 squared result is odd \n",
            "1 squared result is odd 9 squared result is odd 4 squared result is even \n",
            "15 squared result is odd \n",
            "\n",
            "\n",
            "1 squared result is odd \n",
            "22 squared result is even \n",
            "30 squared result is even 4 squared result is even \n",
            "15 squared result is odd \n",
            "\n",
            "9 squared result is odd \n",
            "execution time :  [0.05331176700019569, 0.05336715500015998, 0.05518056700020679]\n"
          ]
        },
        {
          "output_type": "display_data",
          "data": {
            "image/png": "[encoded data removed]",
            "text/plain": [
              "<Figure size 432x288 with 1 Axes>"
            ]
          },
          "metadata": {
            "needs_background": "light"
          }
        }
      ]
    },
    {
      "cell_type": "markdown",
      "metadata": {
        "id": "IbmIhFrnffnI"
      },
      "source": [
        "####**Q:** What is the reason to use **sleep** function in python. Explain with example.\n",
        "\n",
        "**Ans:** The sleep() function suspends execution of the current thread for a given number of seconds. The thread will block, but the process is still alive.\n",
        "\n",
        "In a single threaded application, this means everything is blocked while you sleep. In a multithreaded application, only the thread you explicitly 'sleep' will block and the other threads still run within the process."
      ]
    },
    {
      "cell_type": "code",
      "metadata": {
        "id": "9Tsc6rAsTCAK",
        "colab": {
          "base_uri": "https://localhost:8080/"
        },
        "outputId": "f8f0c233-02f2-4a0d-8caf-ed7949c43a40"
      },
      "source": [
        "import time\n",
        "from threading import Thread\n",
        "\n",
        "class worker(Thread):\n",
        "    def run(self):\n",
        "        for x in range(0,11):\n",
        "            print(x)\n",
        "            time.sleep(1)\n",
        "\n",
        "class waiter(Thread):\n",
        "    def run(self):\n",
        "        for x in range(100,103):\n",
        "            print(x)\n",
        "            time.sleep(5)\n",
        "\n",
        "def run():\n",
        "    worker().start()\n",
        "    waiter().start()\n",
        "\n",
        "run()"
      ],
      "execution_count": null,
      "outputs": [
        {
          "output_type": "stream",
          "name": "stdout",
          "text": [
            "0\n",
            "1\n",
            "2\n",
            "3\n",
            "4\n",
            "5\n",
            "6\n",
            "7\n",
            "8\n",
            "9\n",
            "10\n",
            "100\n",
            "101\n",
            "102\n"
          ]
        }
      ]
    },
    {
      "cell_type": "markdown",
      "metadata": {
        "id": "7X0lBYTYe2lK"
      },
      "source": [
        "---\n",
        "---\n",
        "### Date: 20/10/2021"
      ]
    },
    {
      "cell_type": "markdown",
      "metadata": {
        "id": "skoWrlFfebFu"
      },
      "source": [
        "##### **Q1:** Write a python code to fetch data as a list data structure from google drive or github."
      ]
    },
    {
      "cell_type": "code",
      "metadata": {
        "colab": {
          "base_uri": "https://localhost:8080/"
        },
        "id": "q1oHmUc0fCMh",
        "outputId": "b84511d0-2ea9-4306-c398-4c793e4fd14c"
      },
      "source": [
        "import numpy as np\n",
        "mylist1 = np.loadtxt('/content/drive/MyDrive/datasets/mylist.txt', delimiter=\",\", dtype='i')\n",
        "mylist1"
      ],
      "execution_count": null,
      "outputs": [
        {
          "output_type": "execute_result",
          "data": {
            "text/plain": [
              "array([ 1,  2,  3,  4,  5,  6,  7,  8,  9, 10], dtype=int32)"
            ]
          },
          "metadata": {},
          "execution_count": 34
        }
      ]
    },
    {
      "cell_type": "code",
      "metadata": {
        "colab": {
          "base_uri": "https://localhost:8080/"
        },
        "id": "IEf38QQDfDxj",
        "outputId": "d579129e-f451-4a96-ad1c-d6cca2c00bba"
      },
      "source": [
        "import pandas as pd\n",
        "mylist2 = pd.read_csv('/content/drive/MyDrive/datasets/mylist.txt', sep=\",\", header=None)\n",
        "mylist2.to_numpy()"
      ],
      "execution_count": null,
      "outputs": [
        {
          "output_type": "execute_result",
          "data": {
            "text/plain": [
              "array([[ 1,  2,  3,  4,  5,  6,  7,  8,  9, 10]])"
            ]
          },
          "metadata": {},
          "execution_count": 43
        }
      ]
    },
    {
      "cell_type": "code",
      "metadata": {
        "colab": {
          "base_uri": "https://localhost:8080/"
        },
        "id": "4jJJf0xfh7Me",
        "outputId": "92f31013-8572-4b13-dd2e-13f630891155"
      },
      "source": [
        "mylist4 = pd.read_table('/content/drive/MyDrive/datasets/mylist.txt', sep=',', header=None)\n",
        "mylist4.to_numpy()"
      ],
      "execution_count": null,
      "outputs": [
        {
          "output_type": "execute_result",
          "data": {
            "text/plain": [
              "array([[ 1,  2,  3,  4,  5,  6,  7,  8,  9, 10]])"
            ]
          },
          "metadata": {},
          "execution_count": 46
        }
      ]
    },
    {
      "cell_type": "code",
      "metadata": {
        "colab": {
          "base_uri": "https://localhost:8080/"
        },
        "id": "LOc6j8-fiwlX",
        "outputId": "509c6768-a896-4f53-dcdb-513ccea8c31b"
      },
      "source": [
        "file = open('/content/drive/MyDrive/datasets/mylist.txt', 'r')\n",
        "\n",
        "for each in file:\n",
        "  final_list = list(each.split(\",\"))\n",
        "\n",
        "final_list = [int(i) for i in final_list]\n",
        "final_list"
      ],
      "execution_count": null,
      "outputs": [
        {
          "output_type": "execute_result",
          "data": {
            "text/plain": [
              "[1, 2, 3, 4, 5, 6, 7, 8, 9, 10]"
            ]
          },
          "metadata": {},
          "execution_count": 48
        }
      ]
    },
    {
      "cell_type": "markdown",
      "metadata": {
        "id": "C_gBb-FIpz5f"
      },
      "source": [
        "##### Write a python program to find out the factorail of **n number** in sequential, parallel and multiprocessing and data should be read from the google drive. Draw the comparision graph between them."
      ]
    },
    {
      "cell_type": "code",
      "metadata": {
        "id": "CnAC7pZskoTG"
      },
      "source": [
        ""
      ],
      "execution_count": null,
      "outputs": []
    }
  ]
}